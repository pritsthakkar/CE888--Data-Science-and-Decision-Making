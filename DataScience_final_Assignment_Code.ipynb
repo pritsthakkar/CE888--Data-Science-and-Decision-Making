{
  "nbformat": 4,
  "nbformat_minor": 0,
  "metadata": {
    "colab": {
      "provenance": [],
      "machine_shape": "hm"
    },
    "kernelspec": {
      "name": "python3",
      "display_name": "Python 3"
    },
    "language_info": {
      "name": "python"
    },
    "gpuClass": "standard"
  },
  "cells": [
    {
      "cell_type": "code",
      "execution_count": 5,
      "metadata": {
        "id": "w7_npLeaBfjz"
      },
      "outputs": [],
      "source": [
        "# importing required libraries\n",
        "import pandas as pd\n",
        "import matplotlib.pyplot as plt\n",
        "import numpy as np\n",
        "from tensorflow.keras.models import Sequential\n",
        "from tensorflow.keras.layers import LSTM, Dense, Dropout\n",
        "from sklearn.preprocessing import StandardScaler\n",
        "from sklearn.compose import ColumnTransformer\n",
        "from sklearn.ensemble import RandomForestClassifier\n",
        "from sklearn.model_selection import GridSearchCV\n",
        "from sklearn.metrics import accuracy_score, f1_score, precision_score, recall_score, classification_report, confusion_matrix\n",
        "from sklearn.cluster import KMeans\n",
        "from sklearn.neighbors import KNeighborsClassifier\n"
      ]
    },
    {
      "cell_type": "code",
      "source": [
        "# Mounting Google Drive\n",
        "from google.colab import drive\n",
        "drive.mount('/content/drive')"
      ],
      "metadata": {
        "colab": {
          "base_uri": "https://localhost:8080/"
        },
        "id": "uGzR4zif4KFL",
        "outputId": "b8ed3d14-2df5-4403-9e27-f638c3c222d6"
      },
      "execution_count": 6,
      "outputs": [
        {
          "output_type": "stream",
          "name": "stdout",
          "text": [
            "Drive already mounted at /content/drive; to attempt to forcibly remount, call drive.mount(\"/content/drive\", force_remount=True).\n"
          ]
        }
      ]
    },
    {
      "cell_type": "code",
      "source": [
        "df = pd.read_csv(\"/content/drive/MyDrive/data_science_assignment/Merged_data_labeled.csv\", dtype={'id': str}) # Reading data from a CSV file\n",
        "df"
      ],
      "metadata": {
        "colab": {
          "base_uri": "https://localhost:8080/",
          "height": 423
        },
        "id": "WdlFG4zhRAjx",
        "outputId": "04533e3b-26c8-49ec-f7eb-4b9a46070ddd"
      },
      "execution_count": 7,
      "outputs": [
        {
          "output_type": "execute_result",
          "data": {
            "text/plain": [
              "             X     Y     Z        EDA     HR   TEMP  id  \\\n",
              "0        -72.0  68.0 -38.0  22.903978  90.85  35.73  94   \n",
              "1        -18.0  74.0 -21.0  22.903978  90.85  35.73  94   \n",
              "2        -17.0  69.0 -36.0  22.903978  90.85  35.73  94   \n",
              "3        -27.0  57.0 -20.0  22.903978  90.85  35.73  94   \n",
              "4          7.0  61.0   1.0  22.903978  90.85  35.73  94   \n",
              "...        ...   ...   ...        ...    ...    ...  ..   \n",
              "11509046   2.0 -44.0  45.0   1.542354  76.90  31.65  7A   \n",
              "11509047   2.0 -44.0  45.0   1.542354  76.90  31.65  7A   \n",
              "11509048   2.0 -44.0  45.0   1.542354  76.90  31.65  7A   \n",
              "11509049   2.0 -44.0  45.0   1.542354  76.90  31.65  7A   \n",
              "11509050   2.0 -44.0  45.0   1.544917  76.90  31.67  7A   \n",
              "\n",
              "                               datetime  label  \n",
              "0         2020-05-10 23:55:00.000000000    2.0  \n",
              "1         2020-05-10 23:55:00.031249920    2.0  \n",
              "2         2020-05-10 23:55:00.062500096    2.0  \n",
              "3         2020-05-10 23:55:00.093750016    2.0  \n",
              "4         2020-05-10 23:55:00.124999936    2.0  \n",
              "...                                 ...    ...  \n",
              "11509046  2020-07-07 13:43:59.875000064    2.0  \n",
              "11509047  2020-07-07 13:43:59.906249984    2.0  \n",
              "11509048  2020-07-07 13:43:59.937499904    2.0  \n",
              "11509049  2020-07-07 13:43:59.968750080    2.0  \n",
              "11509050  2020-07-07 13:44:00.000000000    2.0  \n",
              "\n",
              "[11509051 rows x 9 columns]"
            ],
            "text/html": [
              "\n",
              "  <div id=\"df-26c607a8-3494-44de-a5ee-490c3e4714ff\">\n",
              "    <div class=\"colab-df-container\">\n",
              "      <div>\n",
              "<style scoped>\n",
              "    .dataframe tbody tr th:only-of-type {\n",
              "        vertical-align: middle;\n",
              "    }\n",
              "\n",
              "    .dataframe tbody tr th {\n",
              "        vertical-align: top;\n",
              "    }\n",
              "\n",
              "    .dataframe thead th {\n",
              "        text-align: right;\n",
              "    }\n",
              "</style>\n",
              "<table border=\"1\" class=\"dataframe\">\n",
              "  <thead>\n",
              "    <tr style=\"text-align: right;\">\n",
              "      <th></th>\n",
              "      <th>X</th>\n",
              "      <th>Y</th>\n",
              "      <th>Z</th>\n",
              "      <th>EDA</th>\n",
              "      <th>HR</th>\n",
              "      <th>TEMP</th>\n",
              "      <th>id</th>\n",
              "      <th>datetime</th>\n",
              "      <th>label</th>\n",
              "    </tr>\n",
              "  </thead>\n",
              "  <tbody>\n",
              "    <tr>\n",
              "      <th>0</th>\n",
              "      <td>-72.0</td>\n",
              "      <td>68.0</td>\n",
              "      <td>-38.0</td>\n",
              "      <td>22.903978</td>\n",
              "      <td>90.85</td>\n",
              "      <td>35.73</td>\n",
              "      <td>94</td>\n",
              "      <td>2020-05-10 23:55:00.000000000</td>\n",
              "      <td>2.0</td>\n",
              "    </tr>\n",
              "    <tr>\n",
              "      <th>1</th>\n",
              "      <td>-18.0</td>\n",
              "      <td>74.0</td>\n",
              "      <td>-21.0</td>\n",
              "      <td>22.903978</td>\n",
              "      <td>90.85</td>\n",
              "      <td>35.73</td>\n",
              "      <td>94</td>\n",
              "      <td>2020-05-10 23:55:00.031249920</td>\n",
              "      <td>2.0</td>\n",
              "    </tr>\n",
              "    <tr>\n",
              "      <th>2</th>\n",
              "      <td>-17.0</td>\n",
              "      <td>69.0</td>\n",
              "      <td>-36.0</td>\n",
              "      <td>22.903978</td>\n",
              "      <td>90.85</td>\n",
              "      <td>35.73</td>\n",
              "      <td>94</td>\n",
              "      <td>2020-05-10 23:55:00.062500096</td>\n",
              "      <td>2.0</td>\n",
              "    </tr>\n",
              "    <tr>\n",
              "      <th>3</th>\n",
              "      <td>-27.0</td>\n",
              "      <td>57.0</td>\n",
              "      <td>-20.0</td>\n",
              "      <td>22.903978</td>\n",
              "      <td>90.85</td>\n",
              "      <td>35.73</td>\n",
              "      <td>94</td>\n",
              "      <td>2020-05-10 23:55:00.093750016</td>\n",
              "      <td>2.0</td>\n",
              "    </tr>\n",
              "    <tr>\n",
              "      <th>4</th>\n",
              "      <td>7.0</td>\n",
              "      <td>61.0</td>\n",
              "      <td>1.0</td>\n",
              "      <td>22.903978</td>\n",
              "      <td>90.85</td>\n",
              "      <td>35.73</td>\n",
              "      <td>94</td>\n",
              "      <td>2020-05-10 23:55:00.124999936</td>\n",
              "      <td>2.0</td>\n",
              "    </tr>\n",
              "    <tr>\n",
              "      <th>...</th>\n",
              "      <td>...</td>\n",
              "      <td>...</td>\n",
              "      <td>...</td>\n",
              "      <td>...</td>\n",
              "      <td>...</td>\n",
              "      <td>...</td>\n",
              "      <td>...</td>\n",
              "      <td>...</td>\n",
              "      <td>...</td>\n",
              "    </tr>\n",
              "    <tr>\n",
              "      <th>11509046</th>\n",
              "      <td>2.0</td>\n",
              "      <td>-44.0</td>\n",
              "      <td>45.0</td>\n",
              "      <td>1.542354</td>\n",
              "      <td>76.90</td>\n",
              "      <td>31.65</td>\n",
              "      <td>7A</td>\n",
              "      <td>2020-07-07 13:43:59.875000064</td>\n",
              "      <td>2.0</td>\n",
              "    </tr>\n",
              "    <tr>\n",
              "      <th>11509047</th>\n",
              "      <td>2.0</td>\n",
              "      <td>-44.0</td>\n",
              "      <td>45.0</td>\n",
              "      <td>1.542354</td>\n",
              "      <td>76.90</td>\n",
              "      <td>31.65</td>\n",
              "      <td>7A</td>\n",
              "      <td>2020-07-07 13:43:59.906249984</td>\n",
              "      <td>2.0</td>\n",
              "    </tr>\n",
              "    <tr>\n",
              "      <th>11509048</th>\n",
              "      <td>2.0</td>\n",
              "      <td>-44.0</td>\n",
              "      <td>45.0</td>\n",
              "      <td>1.542354</td>\n",
              "      <td>76.90</td>\n",
              "      <td>31.65</td>\n",
              "      <td>7A</td>\n",
              "      <td>2020-07-07 13:43:59.937499904</td>\n",
              "      <td>2.0</td>\n",
              "    </tr>\n",
              "    <tr>\n",
              "      <th>11509049</th>\n",
              "      <td>2.0</td>\n",
              "      <td>-44.0</td>\n",
              "      <td>45.0</td>\n",
              "      <td>1.542354</td>\n",
              "      <td>76.90</td>\n",
              "      <td>31.65</td>\n",
              "      <td>7A</td>\n",
              "      <td>2020-07-07 13:43:59.968750080</td>\n",
              "      <td>2.0</td>\n",
              "    </tr>\n",
              "    <tr>\n",
              "      <th>11509050</th>\n",
              "      <td>2.0</td>\n",
              "      <td>-44.0</td>\n",
              "      <td>45.0</td>\n",
              "      <td>1.544917</td>\n",
              "      <td>76.90</td>\n",
              "      <td>31.67</td>\n",
              "      <td>7A</td>\n",
              "      <td>2020-07-07 13:44:00.000000000</td>\n",
              "      <td>2.0</td>\n",
              "    </tr>\n",
              "  </tbody>\n",
              "</table>\n",
              "<p>11509051 rows × 9 columns</p>\n",
              "</div>\n",
              "      <button class=\"colab-df-convert\" onclick=\"convertToInteractive('df-26c607a8-3494-44de-a5ee-490c3e4714ff')\"\n",
              "              title=\"Convert this dataframe to an interactive table.\"\n",
              "              style=\"display:none;\">\n",
              "        \n",
              "  <svg xmlns=\"http://www.w3.org/2000/svg\" height=\"24px\"viewBox=\"0 0 24 24\"\n",
              "       width=\"24px\">\n",
              "    <path d=\"M0 0h24v24H0V0z\" fill=\"none\"/>\n",
              "    <path d=\"M18.56 5.44l.94 2.06.94-2.06 2.06-.94-2.06-.94-.94-2.06-.94 2.06-2.06.94zm-11 1L8.5 8.5l.94-2.06 2.06-.94-2.06-.94L8.5 2.5l-.94 2.06-2.06.94zm10 10l.94 2.06.94-2.06 2.06-.94-2.06-.94-.94-2.06-.94 2.06-2.06.94z\"/><path d=\"M17.41 7.96l-1.37-1.37c-.4-.4-.92-.59-1.43-.59-.52 0-1.04.2-1.43.59L10.3 9.45l-7.72 7.72c-.78.78-.78 2.05 0 2.83L4 21.41c.39.39.9.59 1.41.59.51 0 1.02-.2 1.41-.59l7.78-7.78 2.81-2.81c.8-.78.8-2.07 0-2.86zM5.41 20L4 18.59l7.72-7.72 1.47 1.35L5.41 20z\"/>\n",
              "  </svg>\n",
              "      </button>\n",
              "      \n",
              "  <style>\n",
              "    .colab-df-container {\n",
              "      display:flex;\n",
              "      flex-wrap:wrap;\n",
              "      gap: 12px;\n",
              "    }\n",
              "\n",
              "    .colab-df-convert {\n",
              "      background-color: #E8F0FE;\n",
              "      border: none;\n",
              "      border-radius: 50%;\n",
              "      cursor: pointer;\n",
              "      display: none;\n",
              "      fill: #1967D2;\n",
              "      height: 32px;\n",
              "      padding: 0 0 0 0;\n",
              "      width: 32px;\n",
              "    }\n",
              "\n",
              "    .colab-df-convert:hover {\n",
              "      background-color: #E2EBFA;\n",
              "      box-shadow: 0px 1px 2px rgba(60, 64, 67, 0.3), 0px 1px 3px 1px rgba(60, 64, 67, 0.15);\n",
              "      fill: #174EA6;\n",
              "    }\n",
              "\n",
              "    [theme=dark] .colab-df-convert {\n",
              "      background-color: #3B4455;\n",
              "      fill: #D2E3FC;\n",
              "    }\n",
              "\n",
              "    [theme=dark] .colab-df-convert:hover {\n",
              "      background-color: #434B5C;\n",
              "      box-shadow: 0px 1px 3px 1px rgba(0, 0, 0, 0.15);\n",
              "      filter: drop-shadow(0px 1px 2px rgba(0, 0, 0, 0.3));\n",
              "      fill: #FFFFFF;\n",
              "    }\n",
              "  </style>\n",
              "\n",
              "      <script>\n",
              "        const buttonEl =\n",
              "          document.querySelector('#df-26c607a8-3494-44de-a5ee-490c3e4714ff button.colab-df-convert');\n",
              "        buttonEl.style.display =\n",
              "          google.colab.kernel.accessAllowed ? 'block' : 'none';\n",
              "\n",
              "        async function convertToInteractive(key) {\n",
              "          const element = document.querySelector('#df-26c607a8-3494-44de-a5ee-490c3e4714ff');\n",
              "          const dataTable =\n",
              "            await google.colab.kernel.invokeFunction('convertToInteractive',\n",
              "                                                     [key], {});\n",
              "          if (!dataTable) return;\n",
              "\n",
              "          const docLinkHtml = 'Like what you see? Visit the ' +\n",
              "            '<a target=\"_blank\" href=https://colab.research.google.com/notebooks/data_table.ipynb>data table notebook</a>'\n",
              "            + ' to learn more about interactive tables.';\n",
              "          element.innerHTML = '';\n",
              "          dataTable['output_type'] = 'display_data';\n",
              "          await google.colab.output.renderOutput(dataTable, element);\n",
              "          const docLink = document.createElement('div');\n",
              "          docLink.innerHTML = docLinkHtml;\n",
              "          element.appendChild(docLink);\n",
              "        }\n",
              "      </script>\n",
              "    </div>\n",
              "  </div>\n",
              "  "
            ]
          },
          "metadata": {},
          "execution_count": 7
        }
      ]
    },
    {
      "cell_type": "code",
      "source": [
        "df['label'].value_counts()"
      ],
      "metadata": {
        "id": "LxoV5dqNBznh",
        "colab": {
          "base_uri": "https://localhost:8080/"
        },
        "outputId": "e07c0730-acca-4c36-8489-6ea492a3a120"
      },
      "execution_count": null,
      "outputs": [
        {
          "output_type": "execute_result",
          "data": {
            "text/plain": [
              "2.0    8540583\n",
              "0.0    2162246\n",
              "1.0     806222\n",
              "Name: label, dtype: int64"
            ]
          },
          "metadata": {},
          "execution_count": 3
        }
      ]
    },
    {
      "cell_type": "code",
      "source": [
        "# Converting the 'datetime' column to pandas datetime format\n",
        "df['datetime'] = pd.to_datetime(df['datetime'], format='%Y-%m-%d %H:%M:%S.%f')"
      ],
      "metadata": {
        "id": "3MUgqh_lB8re"
      },
      "execution_count": null,
      "outputs": []
    },
    {
      "cell_type": "code",
      "source": [
        "# Selecting a subset of data for a specific ID\n",
        "new_df = df[df['id'] == '6B' ]\n",
        "new_df['label'].value_counts()"
      ],
      "metadata": {
        "id": "50OY0VAuB-y9",
        "colab": {
          "base_uri": "https://localhost:8080/"
        },
        "outputId": "2e4f8dee-e672-4719-8765-360014ac8ea3"
      },
      "execution_count": null,
      "outputs": [
        {
          "output_type": "execute_result",
          "data": {
            "text/plain": [
              "2.0    718027\n",
              "0.0    107522\n",
              "Name: label, dtype: int64"
            ]
          },
          "metadata": {},
          "execution_count": 6
        }
      ]
    },
    {
      "cell_type": "code",
      "source": [
        "new_df"
      ],
      "metadata": {
        "colab": {
          "base_uri": "https://localhost:8080/",
          "height": 423
        },
        "id": "4POmSAzjCDV2",
        "outputId": "7179f584-37b0-4f03-835e-abcd1031557f"
      },
      "execution_count": null,
      "outputs": [
        {
          "output_type": "execute_result",
          "data": {
            "text/plain": [
              "            X    Y     Z       EDA     HR   TEMP  id  \\\n",
              "3771288 -48.0  4.0  41.0  0.371295  76.90  30.07  6B   \n",
              "3771289 -50.0  5.0  41.0  0.371295  76.90  30.07  6B   \n",
              "3771290 -47.0  5.0  40.0  0.371295  76.90  30.07  6B   \n",
              "3771291 -43.0  6.0  41.0  0.371295  76.90  30.07  6B   \n",
              "3771292 -47.0  6.0  42.0  0.371295  76.90  30.07  6B   \n",
              "...       ...  ...   ...       ...    ...    ...  ..   \n",
              "4596832 -61.0 -9.0 -32.0  2.563308  83.23  31.49  6B   \n",
              "4596833 -58.0 -6.0 -29.0  2.563308  83.23  31.49  6B   \n",
              "4596834 -69.0 -5.0 -40.0  2.563308  83.23  31.49  6B   \n",
              "4596835 -75.0 -3.0 -43.0  2.563308  83.23  31.49  6B   \n",
              "4596836 -59.0 -3.0 -42.0  2.624771  83.30  31.47  6B   \n",
              "\n",
              "                             datetime  label  \n",
              "3771288 2020-06-23 15:46:00.000000000    0.0  \n",
              "3771289 2020-06-23 15:46:00.031249920    0.0  \n",
              "3771290 2020-06-23 15:46:00.062500096    0.0  \n",
              "3771291 2020-06-23 15:46:00.093750016    0.0  \n",
              "3771292 2020-06-23 15:46:00.124999936    0.0  \n",
              "...                               ...    ...  \n",
              "4596832 2020-06-30 15:38:59.875000064    2.0  \n",
              "4596833 2020-06-30 15:38:59.906249984    2.0  \n",
              "4596834 2020-06-30 15:38:59.937499904    2.0  \n",
              "4596835 2020-06-30 15:38:59.968750080    2.0  \n",
              "4596836 2020-06-30 15:39:00.000000000    2.0  \n",
              "\n",
              "[825549 rows x 9 columns]"
            ],
            "text/html": [
              "\n",
              "  <div id=\"df-825700fd-d2b4-43f0-a517-12802c8d3b4c\">\n",
              "    <div class=\"colab-df-container\">\n",
              "      <div>\n",
              "<style scoped>\n",
              "    .dataframe tbody tr th:only-of-type {\n",
              "        vertical-align: middle;\n",
              "    }\n",
              "\n",
              "    .dataframe tbody tr th {\n",
              "        vertical-align: top;\n",
              "    }\n",
              "\n",
              "    .dataframe thead th {\n",
              "        text-align: right;\n",
              "    }\n",
              "</style>\n",
              "<table border=\"1\" class=\"dataframe\">\n",
              "  <thead>\n",
              "    <tr style=\"text-align: right;\">\n",
              "      <th></th>\n",
              "      <th>X</th>\n",
              "      <th>Y</th>\n",
              "      <th>Z</th>\n",
              "      <th>EDA</th>\n",
              "      <th>HR</th>\n",
              "      <th>TEMP</th>\n",
              "      <th>id</th>\n",
              "      <th>datetime</th>\n",
              "      <th>label</th>\n",
              "    </tr>\n",
              "  </thead>\n",
              "  <tbody>\n",
              "    <tr>\n",
              "      <th>3771288</th>\n",
              "      <td>-48.0</td>\n",
              "      <td>4.0</td>\n",
              "      <td>41.0</td>\n",
              "      <td>0.371295</td>\n",
              "      <td>76.90</td>\n",
              "      <td>30.07</td>\n",
              "      <td>6B</td>\n",
              "      <td>2020-06-23 15:46:00.000000000</td>\n",
              "      <td>0.0</td>\n",
              "    </tr>\n",
              "    <tr>\n",
              "      <th>3771289</th>\n",
              "      <td>-50.0</td>\n",
              "      <td>5.0</td>\n",
              "      <td>41.0</td>\n",
              "      <td>0.371295</td>\n",
              "      <td>76.90</td>\n",
              "      <td>30.07</td>\n",
              "      <td>6B</td>\n",
              "      <td>2020-06-23 15:46:00.031249920</td>\n",
              "      <td>0.0</td>\n",
              "    </tr>\n",
              "    <tr>\n",
              "      <th>3771290</th>\n",
              "      <td>-47.0</td>\n",
              "      <td>5.0</td>\n",
              "      <td>40.0</td>\n",
              "      <td>0.371295</td>\n",
              "      <td>76.90</td>\n",
              "      <td>30.07</td>\n",
              "      <td>6B</td>\n",
              "      <td>2020-06-23 15:46:00.062500096</td>\n",
              "      <td>0.0</td>\n",
              "    </tr>\n",
              "    <tr>\n",
              "      <th>3771291</th>\n",
              "      <td>-43.0</td>\n",
              "      <td>6.0</td>\n",
              "      <td>41.0</td>\n",
              "      <td>0.371295</td>\n",
              "      <td>76.90</td>\n",
              "      <td>30.07</td>\n",
              "      <td>6B</td>\n",
              "      <td>2020-06-23 15:46:00.093750016</td>\n",
              "      <td>0.0</td>\n",
              "    </tr>\n",
              "    <tr>\n",
              "      <th>3771292</th>\n",
              "      <td>-47.0</td>\n",
              "      <td>6.0</td>\n",
              "      <td>42.0</td>\n",
              "      <td>0.371295</td>\n",
              "      <td>76.90</td>\n",
              "      <td>30.07</td>\n",
              "      <td>6B</td>\n",
              "      <td>2020-06-23 15:46:00.124999936</td>\n",
              "      <td>0.0</td>\n",
              "    </tr>\n",
              "    <tr>\n",
              "      <th>...</th>\n",
              "      <td>...</td>\n",
              "      <td>...</td>\n",
              "      <td>...</td>\n",
              "      <td>...</td>\n",
              "      <td>...</td>\n",
              "      <td>...</td>\n",
              "      <td>...</td>\n",
              "      <td>...</td>\n",
              "      <td>...</td>\n",
              "    </tr>\n",
              "    <tr>\n",
              "      <th>4596832</th>\n",
              "      <td>-61.0</td>\n",
              "      <td>-9.0</td>\n",
              "      <td>-32.0</td>\n",
              "      <td>2.563308</td>\n",
              "      <td>83.23</td>\n",
              "      <td>31.49</td>\n",
              "      <td>6B</td>\n",
              "      <td>2020-06-30 15:38:59.875000064</td>\n",
              "      <td>2.0</td>\n",
              "    </tr>\n",
              "    <tr>\n",
              "      <th>4596833</th>\n",
              "      <td>-58.0</td>\n",
              "      <td>-6.0</td>\n",
              "      <td>-29.0</td>\n",
              "      <td>2.563308</td>\n",
              "      <td>83.23</td>\n",
              "      <td>31.49</td>\n",
              "      <td>6B</td>\n",
              "      <td>2020-06-30 15:38:59.906249984</td>\n",
              "      <td>2.0</td>\n",
              "    </tr>\n",
              "    <tr>\n",
              "      <th>4596834</th>\n",
              "      <td>-69.0</td>\n",
              "      <td>-5.0</td>\n",
              "      <td>-40.0</td>\n",
              "      <td>2.563308</td>\n",
              "      <td>83.23</td>\n",
              "      <td>31.49</td>\n",
              "      <td>6B</td>\n",
              "      <td>2020-06-30 15:38:59.937499904</td>\n",
              "      <td>2.0</td>\n",
              "    </tr>\n",
              "    <tr>\n",
              "      <th>4596835</th>\n",
              "      <td>-75.0</td>\n",
              "      <td>-3.0</td>\n",
              "      <td>-43.0</td>\n",
              "      <td>2.563308</td>\n",
              "      <td>83.23</td>\n",
              "      <td>31.49</td>\n",
              "      <td>6B</td>\n",
              "      <td>2020-06-30 15:38:59.968750080</td>\n",
              "      <td>2.0</td>\n",
              "    </tr>\n",
              "    <tr>\n",
              "      <th>4596836</th>\n",
              "      <td>-59.0</td>\n",
              "      <td>-3.0</td>\n",
              "      <td>-42.0</td>\n",
              "      <td>2.624771</td>\n",
              "      <td>83.30</td>\n",
              "      <td>31.47</td>\n",
              "      <td>6B</td>\n",
              "      <td>2020-06-30 15:39:00.000000000</td>\n",
              "      <td>2.0</td>\n",
              "    </tr>\n",
              "  </tbody>\n",
              "</table>\n",
              "<p>825549 rows × 9 columns</p>\n",
              "</div>\n",
              "      <button class=\"colab-df-convert\" onclick=\"convertToInteractive('df-825700fd-d2b4-43f0-a517-12802c8d3b4c')\"\n",
              "              title=\"Convert this dataframe to an interactive table.\"\n",
              "              style=\"display:none;\">\n",
              "        \n",
              "  <svg xmlns=\"http://www.w3.org/2000/svg\" height=\"24px\"viewBox=\"0 0 24 24\"\n",
              "       width=\"24px\">\n",
              "    <path d=\"M0 0h24v24H0V0z\" fill=\"none\"/>\n",
              "    <path d=\"M18.56 5.44l.94 2.06.94-2.06 2.06-.94-2.06-.94-.94-2.06-.94 2.06-2.06.94zm-11 1L8.5 8.5l.94-2.06 2.06-.94-2.06-.94L8.5 2.5l-.94 2.06-2.06.94zm10 10l.94 2.06.94-2.06 2.06-.94-2.06-.94-.94-2.06-.94 2.06-2.06.94z\"/><path d=\"M17.41 7.96l-1.37-1.37c-.4-.4-.92-.59-1.43-.59-.52 0-1.04.2-1.43.59L10.3 9.45l-7.72 7.72c-.78.78-.78 2.05 0 2.83L4 21.41c.39.39.9.59 1.41.59.51 0 1.02-.2 1.41-.59l7.78-7.78 2.81-2.81c.8-.78.8-2.07 0-2.86zM5.41 20L4 18.59l7.72-7.72 1.47 1.35L5.41 20z\"/>\n",
              "  </svg>\n",
              "      </button>\n",
              "      \n",
              "  <style>\n",
              "    .colab-df-container {\n",
              "      display:flex;\n",
              "      flex-wrap:wrap;\n",
              "      gap: 12px;\n",
              "    }\n",
              "\n",
              "    .colab-df-convert {\n",
              "      background-color: #E8F0FE;\n",
              "      border: none;\n",
              "      border-radius: 50%;\n",
              "      cursor: pointer;\n",
              "      display: none;\n",
              "      fill: #1967D2;\n",
              "      height: 32px;\n",
              "      padding: 0 0 0 0;\n",
              "      width: 32px;\n",
              "    }\n",
              "\n",
              "    .colab-df-convert:hover {\n",
              "      background-color: #E2EBFA;\n",
              "      box-shadow: 0px 1px 2px rgba(60, 64, 67, 0.3), 0px 1px 3px 1px rgba(60, 64, 67, 0.15);\n",
              "      fill: #174EA6;\n",
              "    }\n",
              "\n",
              "    [theme=dark] .colab-df-convert {\n",
              "      background-color: #3B4455;\n",
              "      fill: #D2E3FC;\n",
              "    }\n",
              "\n",
              "    [theme=dark] .colab-df-convert:hover {\n",
              "      background-color: #434B5C;\n",
              "      box-shadow: 0px 1px 3px 1px rgba(0, 0, 0, 0.15);\n",
              "      filter: drop-shadow(0px 1px 2px rgba(0, 0, 0, 0.3));\n",
              "      fill: #FFFFFF;\n",
              "    }\n",
              "  </style>\n",
              "\n",
              "      <script>\n",
              "        const buttonEl =\n",
              "          document.querySelector('#df-825700fd-d2b4-43f0-a517-12802c8d3b4c button.colab-df-convert');\n",
              "        buttonEl.style.display =\n",
              "          google.colab.kernel.accessAllowed ? 'block' : 'none';\n",
              "\n",
              "        async function convertToInteractive(key) {\n",
              "          const element = document.querySelector('#df-825700fd-d2b4-43f0-a517-12802c8d3b4c');\n",
              "          const dataTable =\n",
              "            await google.colab.kernel.invokeFunction('convertToInteractive',\n",
              "                                                     [key], {});\n",
              "          if (!dataTable) return;\n",
              "\n",
              "          const docLinkHtml = 'Like what you see? Visit the ' +\n",
              "            '<a target=\"_blank\" href=https://colab.research.google.com/notebooks/data_table.ipynb>data table notebook</a>'\n",
              "            + ' to learn more about interactive tables.';\n",
              "          element.innerHTML = '';\n",
              "          dataTable['output_type'] = 'display_data';\n",
              "          await google.colab.output.renderOutput(dataTable, element);\n",
              "          const docLink = document.createElement('div');\n",
              "          docLink.innerHTML = docLinkHtml;\n",
              "          element.appendChild(docLink);\n",
              "        }\n",
              "      </script>\n",
              "    </div>\n",
              "  </div>\n",
              "  "
            ]
          },
          "metadata": {},
          "execution_count": 7
        }
      ]
    },
    {
      "cell_type": "code",
      "source": [
        "#Converting the 'datetime' column to 'date' format and adding it as a separate column\n",
        "new_df['date'] = new_df['datetime'].dt.date\n"
      ],
      "metadata": {
        "colab": {
          "base_uri": "https://localhost:8080/"
        },
        "id": "ojPKckMuCFDf",
        "outputId": "7cc0112b-63f4-495a-fdba-609e7a8ae8da"
      },
      "execution_count": null,
      "outputs": [
        {
          "output_type": "stream",
          "name": "stderr",
          "text": [
            "<ipython-input-8-c2b1cbaa6fb2>:1: SettingWithCopyWarning: \n",
            "A value is trying to be set on a copy of a slice from a DataFrame.\n",
            "Try using .loc[row_indexer,col_indexer] = value instead\n",
            "\n",
            "See the caveats in the documentation: https://pandas.pydata.org/pandas-docs/stable/user_guide/indexing.html#returning-a-view-versus-a-copy\n",
            "  new_df['date'] = new_df['datetime'].dt.date\n"
          ]
        }
      ]
    },
    {
      "cell_type": "code",
      "source": [
        "new_df['date'] = new_df['date'].astype('str')\n",
        "new_df['date'].value_counts()"
      ],
      "metadata": {
        "colab": {
          "base_uri": "https://localhost:8080/"
        },
        "id": "DN7sgqaXCHJ3",
        "outputId": "c3d415b8-f871-4bb8-e747-ca06fc1c0ee7"
      },
      "execution_count": null,
      "outputs": [
        {
          "output_type": "stream",
          "name": "stderr",
          "text": [
            "<ipython-input-9-65c7ab83df5c>:1: SettingWithCopyWarning: \n",
            "A value is trying to be set on a copy of a slice from a DataFrame.\n",
            "Try using .loc[row_indexer,col_indexer] = value instead\n",
            "\n",
            "See the caveats in the documentation: https://pandas.pydata.org/pandas-docs/stable/user_guide/indexing.html#returning-a-view-versus-a-copy\n",
            "  new_df['date'] = new_df['date'].astype('str')\n"
          ]
        },
        {
          "output_type": "execute_result",
          "data": {
            "text/plain": [
              "2020-06-29    401284\n",
              "2020-06-26    124739\n",
              "2020-06-25    113282\n",
              "2020-06-23     96002\n",
              "2020-06-30     67201\n",
              "2020-06-24     23041\n",
              "Name: date, dtype: int64"
            ]
          },
          "metadata": {},
          "execution_count": 9
        }
      ]
    },
    {
      "cell_type": "code",
      "source": [
        "import matplotlib.pyplot as plt\n",
        "# Plotting the 'label' column against the 'datetime' column\n",
        "target = new_df['label']\n",
        "x = new_df['datetime']\n",
        "\n",
        "plt.plot(x, target)"
      ],
      "metadata": {
        "colab": {
          "base_uri": "https://localhost:8080/",
          "height": 447
        },
        "id": "bR_R40xO5CT_",
        "outputId": "d71cc803-a2a8-4cf7-ecb2-a936cc469140"
      },
      "execution_count": null,
      "outputs": [
        {
          "output_type": "execute_result",
          "data": {
            "text/plain": [
              "[<matplotlib.lines.Line2D at 0x7f6edd300400>]"
            ]
          },
          "metadata": {},
          "execution_count": 10
        },
        {
          "output_type": "display_data",
          "data": {
            "text/plain": [
              "<Figure size 640x480 with 1 Axes>"
            ],
            "image/png": "[encoded data removed]"
          },
          "metadata": {}
        }
      ]
    },
    {
      "cell_type": "code",
      "source": [
        "Dropping the 'id' column and setting 'datetime' column as the index\n",
        "new_df.drop(columns=['id'], inplace = True)\n",
        "new_df.shape"
      ],
      "metadata": {
        "colab": {
          "base_uri": "https://localhost:8080/"
        },
        "id": "sYz0bmuFCNc8",
        "outputId": "1cdd3ee6-2032-4929-d222-a86e6220d7d3"
      },
      "execution_count": null,
      "outputs": [
        {
          "output_type": "stream",
          "name": "stderr",
          "text": [
            "<ipython-input-11-9c940d989064>:1: SettingWithCopyWarning: \n",
            "A value is trying to be set on a copy of a slice from a DataFrame\n",
            "\n",
            "See the caveats in the documentation: https://pandas.pydata.org/pandas-docs/stable/user_guide/indexing.html#returning-a-view-versus-a-copy\n",
            "  new_df.drop(columns=['id'], inplace = True)\n"
          ]
        },
        {
          "output_type": "execute_result",
          "data": {
            "text/plain": [
              "(825549, 9)"
            ]
          },
          "metadata": {},
          "execution_count": 11
        }
      ]
    },
    {
      "cell_type": "code",
      "source": [
        "# Splitting the data into train and validation sets\n",
        "df1 = new_df[new_df['date'] == '2020-06-23']\n",
        "df2 = new_df[new_df['date'] == '2020-06-24']\n",
        "df3 = new_df[new_df['date'] == '2020-06-25']\n",
        "df4 = new_df[new_df['date'] == '2020-06-26']\n",
        "df5 = new_df[new_df['date'] == '2020-06-29']\n",
        "df6 = new_df[new_df['date'] == '2020-06-30']\n",
        "\n"
      ],
      "metadata": {
        "id": "wtXW-TzQCP5w"
      },
      "execution_count": null,
      "outputs": []
    },
    {
      "cell_type": "code",
      "source": [
        "df1.shape[0] + df2.shape[0] +df3.shape[0]+ df4.shape[0] + df5.shape[0] + df6.shape[0] == new_df.shape[0]"
      ],
      "metadata": {
        "colab": {
          "base_uri": "https://localhost:8080/"
        },
        "id": "gq6Rd4bHCTe-",
        "outputId": "902b87fd-2777-40f0-b259-a23c12f44bad"
      },
      "execution_count": null,
      "outputs": [
        {
          "output_type": "execute_result",
          "data": {
            "text/plain": [
              "True"
            ]
          },
          "metadata": {},
          "execution_count": 76
        }
      ]
    },
    {
      "cell_type": "code",
      "source": [
        "df1['label'].value_counts()\n"
      ],
      "metadata": {
        "colab": {
          "base_uri": "https://localhost:8080/"
        },
        "id": "OcIKKi3ICW05",
        "outputId": "45684d1f-d30f-4390-b502-a4c9368896c5"
      },
      "execution_count": null,
      "outputs": [
        {
          "output_type": "execute_result",
          "data": {
            "text/plain": [
              "2.0    23041\n",
              "Name: label, dtype: int64"
            ]
          },
          "metadata": {},
          "execution_count": 14
        }
      ]
    },
    {
      "cell_type": "code",
      "source": [
        "df2['label'].value_counts()\n"
      ],
      "metadata": {
        "colab": {
          "base_uri": "https://localhost:8080/"
        },
        "id": "dS0vXAN17QJK",
        "outputId": "85772669-c503-4a21-db34-cbf80a0785d3"
      },
      "execution_count": null,
      "outputs": [
        {
          "output_type": "execute_result",
          "data": {
            "text/plain": [
              "2.0    113282\n",
              "Name: label, dtype: int64"
            ]
          },
          "metadata": {},
          "execution_count": 15
        }
      ]
    },
    {
      "cell_type": "code",
      "source": [
        "df3['label'].value_counts()\n"
      ],
      "metadata": {
        "colab": {
          "base_uri": "https://localhost:8080/"
        },
        "id": "2kz72P9c7UCM",
        "outputId": "47974366-fec8-4768-f88b-5daa341522e6"
      },
      "execution_count": null,
      "outputs": [
        {
          "output_type": "execute_result",
          "data": {
            "text/plain": [
              "2.0    124739\n",
              "Name: label, dtype: int64"
            ]
          },
          "metadata": {},
          "execution_count": 16
        }
      ]
    },
    {
      "cell_type": "code",
      "source": [
        "df4['label'].value_counts()\n"
      ],
      "metadata": {
        "colab": {
          "base_uri": "https://localhost:8080/"
        },
        "id": "egaWaJjL7ZlN",
        "outputId": "161603cb-23be-4f89-9fdb-8e304d90d858"
      },
      "execution_count": null,
      "outputs": [
        {
          "output_type": "execute_result",
          "data": {
            "text/plain": [
              "Series([], Name: label, dtype: int64)"
            ]
          },
          "metadata": {},
          "execution_count": 17
        }
      ]
    },
    {
      "cell_type": "code",
      "source": [
        "df5['label'].value_counts()"
      ],
      "metadata": {
        "colab": {
          "base_uri": "https://localhost:8080/"
        },
        "id": "rtbLAov47dZY",
        "outputId": "22171dfa-b396-48a3-a35a-5b42696abef8"
      },
      "execution_count": null,
      "outputs": [
        {
          "output_type": "execute_result",
          "data": {
            "text/plain": [
              "2.0    343683\n",
              "0.0     57601\n",
              "Name: label, dtype: int64"
            ]
          },
          "metadata": {},
          "execution_count": 18
        }
      ]
    },
    {
      "cell_type": "code",
      "source": [
        "df6['label'].value_counts()"
      ],
      "metadata": {
        "colab": {
          "base_uri": "https://localhost:8080/"
        },
        "id": "Z2grDHigsFk5",
        "outputId": "e6bfc8d6-ad29-4b1c-8be9-b50e0a3707ad"
      },
      "execution_count": null,
      "outputs": [
        {
          "output_type": "execute_result",
          "data": {
            "text/plain": [
              "2.0    67201\n",
              "Name: label, dtype: int64"
            ]
          },
          "metadata": {},
          "execution_count": 19
        }
      ]
    },
    {
      "cell_type": "code",
      "source": [
        "x1 =  df3.append(df4)\n",
        "x2 = x1.append(df2)\n",
        "train = df1.append(x2)\n",
        "train.sort_values(by = \"datetime\")"
      ],
      "metadata": {
        "colab": {
          "base_uri": "https://localhost:8080/",
          "height": 547
        },
        "id": "gMrngH17Chac",
        "outputId": "5c3d8ee8-5aae-43da-c302-21d797e7957f"
      },
      "execution_count": null,
      "outputs": [
        {
          "output_type": "stream",
          "name": "stderr",
          "text": [
            "<ipython-input-84-9261ed8f8876>:1: FutureWarning: The frame.append method is deprecated and will be removed from pandas in a future version. Use pandas.concat instead.\n",
            "  x1 =  df3.append(df4)\n",
            "<ipython-input-84-9261ed8f8876>:2: FutureWarning: The frame.append method is deprecated and will be removed from pandas in a future version. Use pandas.concat instead.\n",
            "  x2 = x1.append(df2)\n",
            "<ipython-input-84-9261ed8f8876>:3: FutureWarning: The frame.append method is deprecated and will be removed from pandas in a future version. Use pandas.concat instead.\n",
            "  train = df1.append(x2)\n"
          ]
        },
        {
          "output_type": "execute_result",
          "data": {
            "text/plain": [
              "            X     Y     Z       EDA     HR   TEMP  \\\n",
              "3771288 -48.0   4.0  41.0  0.371295  76.90  30.07   \n",
              "3771289 -50.0   5.0  41.0  0.371295  76.90  30.07   \n",
              "3771290 -47.0   5.0  40.0  0.371295  76.90  30.07   \n",
              "3771291 -43.0   6.0  41.0  0.371295  76.90  30.07   \n",
              "3771292 -47.0   6.0  42.0  0.371295  76.90  30.07   \n",
              "...       ...   ...   ...       ...    ...    ...   \n",
              "4080410 -27.0 -62.0  18.0  5.663661  86.65  31.31   \n",
              "4080411 -34.0 -60.0  15.0  5.663661  86.65  31.31   \n",
              "4080412 -61.0 -62.0  13.0  5.663661  86.65  31.31   \n",
              "4080413 -69.0 -57.0   6.0  5.663661  86.65  31.31   \n",
              "4080414 -61.0 -48.0  -9.0  5.292343  86.57  31.29   \n",
              "\n",
              "                             datetime  label        date  \n",
              "3771288 2020-06-23 15:46:00.000000000    0.0  2020-06-23  \n",
              "3771289 2020-06-23 15:46:00.031249920    0.0  2020-06-23  \n",
              "3771290 2020-06-23 15:46:00.062500096    0.0  2020-06-23  \n",
              "3771291 2020-06-23 15:46:00.093750016    0.0  2020-06-23  \n",
              "3771292 2020-06-23 15:46:00.124999936    0.0  2020-06-23  \n",
              "...                               ...    ...         ...  \n",
              "4080410 2020-06-26 14:00:59.875000064    2.0  2020-06-26  \n",
              "4080411 2020-06-26 14:00:59.906249984    2.0  2020-06-26  \n",
              "4080412 2020-06-26 14:00:59.937499904    2.0  2020-06-26  \n",
              "4080413 2020-06-26 14:00:59.968750080    2.0  2020-06-26  \n",
              "4080414 2020-06-26 14:01:00.000000000    2.0  2020-06-26  \n",
              "\n",
              "[357064 rows x 9 columns]"
            ],
            "text/html": [
              "\n",
              "  <div id=\"df-cd3e1d8b-3129-4bdd-97bd-8d5534af5e8c\">\n",
              "    <div class=\"colab-df-container\">\n",
              "      <div>\n",
              "<style scoped>\n",
              "    .dataframe tbody tr th:only-of-type {\n",
              "        vertical-align: middle;\n",
              "    }\n",
              "\n",
              "    .dataframe tbody tr th {\n",
              "        vertical-align: top;\n",
              "    }\n",
              "\n",
              "    .dataframe thead th {\n",
              "        text-align: right;\n",
              "    }\n",
              "</style>\n",
              "<table border=\"1\" class=\"dataframe\">\n",
              "  <thead>\n",
              "    <tr style=\"text-align: right;\">\n",
              "      <th></th>\n",
              "      <th>X</th>\n",
              "      <th>Y</th>\n",
              "      <th>Z</th>\n",
              "      <th>EDA</th>\n",
              "      <th>HR</th>\n",
              "      <th>TEMP</th>\n",
              "      <th>datetime</th>\n",
              "      <th>label</th>\n",
              "      <th>date</th>\n",
              "    </tr>\n",
              "  </thead>\n",
              "  <tbody>\n",
              "    <tr>\n",
              "      <th>3771288</th>\n",
              "      <td>-48.0</td>\n",
              "      <td>4.0</td>\n",
              "      <td>41.0</td>\n",
              "      <td>0.371295</td>\n",
              "      <td>76.90</td>\n",
              "      <td>30.07</td>\n",
              "      <td>2020-06-23 15:46:00.000000000</td>\n",
              "      <td>0.0</td>\n",
              "      <td>2020-06-23</td>\n",
              "    </tr>\n",
              "    <tr>\n",
              "      <th>3771289</th>\n",
              "      <td>-50.0</td>\n",
              "      <td>5.0</td>\n",
              "      <td>41.0</td>\n",
              "      <td>0.371295</td>\n",
              "      <td>76.90</td>\n",
              "      <td>30.07</td>\n",
              "      <td>2020-06-23 15:46:00.031249920</td>\n",
              "      <td>0.0</td>\n",
              "      <td>2020-06-23</td>\n",
              "    </tr>\n",
              "    <tr>\n",
              "      <th>3771290</th>\n",
              "      <td>-47.0</td>\n",
              "      <td>5.0</td>\n",
              "      <td>40.0</td>\n",
              "      <td>0.371295</td>\n",
              "      <td>76.90</td>\n",
              "      <td>30.07</td>\n",
              "      <td>2020-06-23 15:46:00.062500096</td>\n",
              "      <td>0.0</td>\n",
              "      <td>2020-06-23</td>\n",
              "    </tr>\n",
              "    <tr>\n",
              "      <th>3771291</th>\n",
              "      <td>-43.0</td>\n",
              "      <td>6.0</td>\n",
              "      <td>41.0</td>\n",
              "      <td>0.371295</td>\n",
              "      <td>76.90</td>\n",
              "      <td>30.07</td>\n",
              "      <td>2020-06-23 15:46:00.093750016</td>\n",
              "      <td>0.0</td>\n",
              "      <td>2020-06-23</td>\n",
              "    </tr>\n",
              "    <tr>\n",
              "      <th>3771292</th>\n",
              "      <td>-47.0</td>\n",
              "      <td>6.0</td>\n",
              "      <td>42.0</td>\n",
              "      <td>0.371295</td>\n",
              "      <td>76.90</td>\n",
              "      <td>30.07</td>\n",
              "      <td>2020-06-23 15:46:00.124999936</td>\n",
              "      <td>0.0</td>\n",
              "      <td>2020-06-23</td>\n",
              "    </tr>\n",
              "    <tr>\n",
              "      <th>...</th>\n",
              "      <td>...</td>\n",
              "      <td>...</td>\n",
              "      <td>...</td>\n",
              "      <td>...</td>\n",
              "      <td>...</td>\n",
              "      <td>...</td>\n",
              "      <td>...</td>\n",
              "      <td>...</td>\n",
              "      <td>...</td>\n",
              "    </tr>\n",
              "    <tr>\n",
              "      <th>4080410</th>\n",
              "      <td>-27.0</td>\n",
              "      <td>-62.0</td>\n",
              "      <td>18.0</td>\n",
              "      <td>5.663661</td>\n",
              "      <td>86.65</td>\n",
              "      <td>31.31</td>\n",
              "      <td>2020-06-26 14:00:59.875000064</td>\n",
              "      <td>2.0</td>\n",
              "      <td>2020-06-26</td>\n",
              "    </tr>\n",
              "    <tr>\n",
              "      <th>4080411</th>\n",
              "      <td>-34.0</td>\n",
              "      <td>-60.0</td>\n",
              "      <td>15.0</td>\n",
              "      <td>5.663661</td>\n",
              "      <td>86.65</td>\n",
              "      <td>31.31</td>\n",
              "      <td>2020-06-26 14:00:59.906249984</td>\n",
              "      <td>2.0</td>\n",
              "      <td>2020-06-26</td>\n",
              "    </tr>\n",
              "    <tr>\n",
              "      <th>4080412</th>\n",
              "      <td>-61.0</td>\n",
              "      <td>-62.0</td>\n",
              "      <td>13.0</td>\n",
              "      <td>5.663661</td>\n",
              "      <td>86.65</td>\n",
              "      <td>31.31</td>\n",
              "      <td>2020-06-26 14:00:59.937499904</td>\n",
              "      <td>2.0</td>\n",
              "      <td>2020-06-26</td>\n",
              "    </tr>\n",
              "    <tr>\n",
              "      <th>4080413</th>\n",
              "      <td>-69.0</td>\n",
              "      <td>-57.0</td>\n",
              "      <td>6.0</td>\n",
              "      <td>5.663661</td>\n",
              "      <td>86.65</td>\n",
              "      <td>31.31</td>\n",
              "      <td>2020-06-26 14:00:59.968750080</td>\n",
              "      <td>2.0</td>\n",
              "      <td>2020-06-26</td>\n",
              "    </tr>\n",
              "    <tr>\n",
              "      <th>4080414</th>\n",
              "      <td>-61.0</td>\n",
              "      <td>-48.0</td>\n",
              "      <td>-9.0</td>\n",
              "      <td>5.292343</td>\n",
              "      <td>86.57</td>\n",
              "      <td>31.29</td>\n",
              "      <td>2020-06-26 14:01:00.000000000</td>\n",
              "      <td>2.0</td>\n",
              "      <td>2020-06-26</td>\n",
              "    </tr>\n",
              "  </tbody>\n",
              "</table>\n",
              "<p>357064 rows × 9 columns</p>\n",
              "</div>\n",
              "      <button class=\"colab-df-convert\" onclick=\"convertToInteractive('df-cd3e1d8b-3129-4bdd-97bd-8d5534af5e8c')\"\n",
              "              title=\"Convert this dataframe to an interactive table.\"\n",
              "              style=\"display:none;\">\n",
              "        \n",
              "  <svg xmlns=\"http://www.w3.org/2000/svg\" height=\"24px\"viewBox=\"0 0 24 24\"\n",
              "       width=\"24px\">\n",
              "    <path d=\"M0 0h24v24H0V0z\" fill=\"none\"/>\n",
              "    <path d=\"M18.56 5.44l.94 2.06.94-2.06 2.06-.94-2.06-.94-.94-2.06-.94 2.06-2.06.94zm-11 1L8.5 8.5l.94-2.06 2.06-.94-2.06-.94L8.5 2.5l-.94 2.06-2.06.94zm10 10l.94 2.06.94-2.06 2.06-.94-2.06-.94-.94-2.06-.94 2.06-2.06.94z\"/><path d=\"M17.41 7.96l-1.37-1.37c-.4-.4-.92-.59-1.43-.59-.52 0-1.04.2-1.43.59L10.3 9.45l-7.72 7.72c-.78.78-.78 2.05 0 2.83L4 21.41c.39.39.9.59 1.41.59.51 0 1.02-.2 1.41-.59l7.78-7.78 2.81-2.81c.8-.78.8-2.07 0-2.86zM5.41 20L4 18.59l7.72-7.72 1.47 1.35L5.41 20z\"/>\n",
              "  </svg>\n",
              "      </button>\n",
              "      \n",
              "  <style>\n",
              "    .colab-df-container {\n",
              "      display:flex;\n",
              "      flex-wrap:wrap;\n",
              "      gap: 12px;\n",
              "    }\n",
              "\n",
              "    .colab-df-convert {\n",
              "      background-color: #E8F0FE;\n",
              "      border: none;\n",
              "      border-radius: 50%;\n",
              "      cursor: pointer;\n",
              "      display: none;\n",
              "      fill: #1967D2;\n",
              "      height: 32px;\n",
              "      padding: 0 0 0 0;\n",
              "      width: 32px;\n",
              "    }\n",
              "\n",
              "    .colab-df-convert:hover {\n",
              "      background-color: #E2EBFA;\n",
              "      box-shadow: 0px 1px 2px rgba(60, 64, 67, 0.3), 0px 1px 3px 1px rgba(60, 64, 67, 0.15);\n",
              "      fill: #174EA6;\n",
              "    }\n",
              "\n",
              "    [theme=dark] .colab-df-convert {\n",
              "      background-color: #3B4455;\n",
              "      fill: #D2E3FC;\n",
              "    }\n",
              "\n",
              "    [theme=dark] .colab-df-convert:hover {\n",
              "      background-color: #434B5C;\n",
              "      box-shadow: 0px 1px 3px 1px rgba(0, 0, 0, 0.15);\n",
              "      filter: drop-shadow(0px 1px 2px rgba(0, 0, 0, 0.3));\n",
              "      fill: #FFFFFF;\n",
              "    }\n",
              "  </style>\n",
              "\n",
              "      <script>\n",
              "        const buttonEl =\n",
              "          document.querySelector('#df-cd3e1d8b-3129-4bdd-97bd-8d5534af5e8c button.colab-df-convert');\n",
              "        buttonEl.style.display =\n",
              "          google.colab.kernel.accessAllowed ? 'block' : 'none';\n",
              "\n",
              "        async function convertToInteractive(key) {\n",
              "          const element = document.querySelector('#df-cd3e1d8b-3129-4bdd-97bd-8d5534af5e8c');\n",
              "          const dataTable =\n",
              "            await google.colab.kernel.invokeFunction('convertToInteractive',\n",
              "                                                     [key], {});\n",
              "          if (!dataTable) return;\n",
              "\n",
              "          const docLinkHtml = 'Like what you see? Visit the ' +\n",
              "            '<a target=\"_blank\" href=https://colab.research.google.com/notebooks/data_table.ipynb>data table notebook</a>'\n",
              "            + ' to learn more about interactive tables.';\n",
              "          element.innerHTML = '';\n",
              "          dataTable['output_type'] = 'display_data';\n",
              "          await google.colab.output.renderOutput(dataTable, element);\n",
              "          const docLink = document.createElement('div');\n",
              "          docLink.innerHTML = docLinkHtml;\n",
              "          element.appendChild(docLink);\n",
              "        }\n",
              "      </script>\n",
              "    </div>\n",
              "  </div>\n",
              "  "
            ]
          },
          "metadata": {},
          "execution_count": 84
        }
      ]
    },
    {
      "cell_type": "code",
      "source": [
        "train.shape\n",
        "train.set_index('datetime')"
      ],
      "metadata": {
        "colab": {
          "base_uri": "https://localhost:8080/",
          "height": 455
        },
        "id": "SRfLWLqBCpsO",
        "outputId": "a025e0e8-636a-4279-b743-9974aca01d1d"
      },
      "execution_count": null,
      "outputs": [
        {
          "output_type": "execute_result",
          "data": {
            "text/plain": [
              "                                  X    Y     Z       EDA     HR   TEMP  label  \\\n",
              "datetime                                                                        \n",
              "2020-06-23 15:46:00.000000000 -48.0  4.0  41.0  0.371295  76.90  30.07    0.0   \n",
              "2020-06-23 15:46:00.031249920 -50.0  5.0  41.0  0.371295  76.90  30.07    0.0   \n",
              "2020-06-23 15:46:00.062500096 -47.0  5.0  40.0  0.371295  76.90  30.07    0.0   \n",
              "2020-06-23 15:46:00.093750016 -43.0  6.0  41.0  0.371295  76.90  30.07    0.0   \n",
              "2020-06-23 15:46:00.124999936 -47.0  6.0  42.0  0.371295  76.90  30.07    0.0   \n",
              "...                             ...  ...   ...       ...    ...    ...    ...   \n",
              "2020-06-24 12:03:59.875000064 -48.0  7.0   2.0  3.276460  85.13  28.99    2.0   \n",
              "2020-06-24 12:03:59.906249984 -37.0  0.0  -3.0  3.276460  85.13  28.99    2.0   \n",
              "2020-06-24 12:03:59.937499904 -52.0  2.0   4.0  3.276460  85.13  28.99    2.0   \n",
              "2020-06-24 12:03:59.968750080 -55.0  2.0   6.0  3.276460  85.13  28.99    2.0   \n",
              "2020-06-24 12:04:00.000000000 -63.0  8.0  11.0  3.503119  85.00  28.99    2.0   \n",
              "\n",
              "                                     date  \n",
              "datetime                                   \n",
              "2020-06-23 15:46:00.000000000  2020-06-23  \n",
              "2020-06-23 15:46:00.031249920  2020-06-23  \n",
              "2020-06-23 15:46:00.062500096  2020-06-23  \n",
              "2020-06-23 15:46:00.093750016  2020-06-23  \n",
              "2020-06-23 15:46:00.124999936  2020-06-23  \n",
              "...                                   ...  \n",
              "2020-06-24 12:03:59.875000064  2020-06-24  \n",
              "2020-06-24 12:03:59.906249984  2020-06-24  \n",
              "2020-06-24 12:03:59.937499904  2020-06-24  \n",
              "2020-06-24 12:03:59.968750080  2020-06-24  \n",
              "2020-06-24 12:04:00.000000000  2020-06-24  \n",
              "\n",
              "[357064 rows x 8 columns]"
            ],
            "text/html": [
              "\n",
              "  <div id=\"df-8e1a38f6-4c30-470f-b704-8ce3674c9766\">\n",
              "    <div class=\"colab-df-container\">\n",
              "      <div>\n",
              "<style scoped>\n",
              "    .dataframe tbody tr th:only-of-type {\n",
              "        vertical-align: middle;\n",
              "    }\n",
              "\n",
              "    .dataframe tbody tr th {\n",
              "        vertical-align: top;\n",
              "    }\n",
              "\n",
              "    .dataframe thead th {\n",
              "        text-align: right;\n",
              "    }\n",
              "</style>\n",
              "<table border=\"1\" class=\"dataframe\">\n",
              "  <thead>\n",
              "    <tr style=\"text-align: right;\">\n",
              "      <th></th>\n",
              "      <th>X</th>\n",
              "      <th>Y</th>\n",
              "      <th>Z</th>\n",
              "      <th>EDA</th>\n",
              "      <th>HR</th>\n",
              "      <th>TEMP</th>\n",
              "      <th>label</th>\n",
              "      <th>date</th>\n",
              "    </tr>\n",
              "    <tr>\n",
              "      <th>datetime</th>\n",
              "      <th></th>\n",
              "      <th></th>\n",
              "      <th></th>\n",
              "      <th></th>\n",
              "      <th></th>\n",
              "      <th></th>\n",
              "      <th></th>\n",
              "      <th></th>\n",
              "    </tr>\n",
              "  </thead>\n",
              "  <tbody>\n",
              "    <tr>\n",
              "      <th>2020-06-23 15:46:00.000000000</th>\n",
              "      <td>-48.0</td>\n",
              "      <td>4.0</td>\n",
              "      <td>41.0</td>\n",
              "      <td>0.371295</td>\n",
              "      <td>76.90</td>\n",
              "      <td>30.07</td>\n",
              "      <td>0.0</td>\n",
              "      <td>2020-06-23</td>\n",
              "    </tr>\n",
              "    <tr>\n",
              "      <th>2020-06-23 15:46:00.031249920</th>\n",
              "      <td>-50.0</td>\n",
              "      <td>5.0</td>\n",
              "      <td>41.0</td>\n",
              "      <td>0.371295</td>\n",
              "      <td>76.90</td>\n",
              "      <td>30.07</td>\n",
              "      <td>0.0</td>\n",
              "      <td>2020-06-23</td>\n",
              "    </tr>\n",
              "    <tr>\n",
              "      <th>2020-06-23 15:46:00.062500096</th>\n",
              "      <td>-47.0</td>\n",
              "      <td>5.0</td>\n",
              "      <td>40.0</td>\n",
              "      <td>0.371295</td>\n",
              "      <td>76.90</td>\n",
              "      <td>30.07</td>\n",
              "      <td>0.0</td>\n",
              "      <td>2020-06-23</td>\n",
              "    </tr>\n",
              "    <tr>\n",
              "      <th>2020-06-23 15:46:00.093750016</th>\n",
              "      <td>-43.0</td>\n",
              "      <td>6.0</td>\n",
              "      <td>41.0</td>\n",
              "      <td>0.371295</td>\n",
              "      <td>76.90</td>\n",
              "      <td>30.07</td>\n",
              "      <td>0.0</td>\n",
              "      <td>2020-06-23</td>\n",
              "    </tr>\n",
              "    <tr>\n",
              "      <th>2020-06-23 15:46:00.124999936</th>\n",
              "      <td>-47.0</td>\n",
              "      <td>6.0</td>\n",
              "      <td>42.0</td>\n",
              "      <td>0.371295</td>\n",
              "      <td>76.90</td>\n",
              "      <td>30.07</td>\n",
              "      <td>0.0</td>\n",
              "      <td>2020-06-23</td>\n",
              "    </tr>\n",
              "    <tr>\n",
              "      <th>...</th>\n",
              "      <td>...</td>\n",
              "      <td>...</td>\n",
              "      <td>...</td>\n",
              "      <td>...</td>\n",
              "      <td>...</td>\n",
              "      <td>...</td>\n",
              "      <td>...</td>\n",
              "      <td>...</td>\n",
              "    </tr>\n",
              "    <tr>\n",
              "      <th>2020-06-24 12:03:59.875000064</th>\n",
              "      <td>-48.0</td>\n",
              "      <td>7.0</td>\n",
              "      <td>2.0</td>\n",
              "      <td>3.276460</td>\n",
              "      <td>85.13</td>\n",
              "      <td>28.99</td>\n",
              "      <td>2.0</td>\n",
              "      <td>2020-06-24</td>\n",
              "    </tr>\n",
              "    <tr>\n",
              "      <th>2020-06-24 12:03:59.906249984</th>\n",
              "      <td>-37.0</td>\n",
              "      <td>0.0</td>\n",
              "      <td>-3.0</td>\n",
              "      <td>3.276460</td>\n",
              "      <td>85.13</td>\n",
              "      <td>28.99</td>\n",
              "      <td>2.0</td>\n",
              "      <td>2020-06-24</td>\n",
              "    </tr>\n",
              "    <tr>\n",
              "      <th>2020-06-24 12:03:59.937499904</th>\n",
              "      <td>-52.0</td>\n",
              "      <td>2.0</td>\n",
              "      <td>4.0</td>\n",
              "      <td>3.276460</td>\n",
              "      <td>85.13</td>\n",
              "      <td>28.99</td>\n",
              "      <td>2.0</td>\n",
              "      <td>2020-06-24</td>\n",
              "    </tr>\n",
              "    <tr>\n",
              "      <th>2020-06-24 12:03:59.968750080</th>\n",
              "      <td>-55.0</td>\n",
              "      <td>2.0</td>\n",
              "      <td>6.0</td>\n",
              "      <td>3.276460</td>\n",
              "      <td>85.13</td>\n",
              "      <td>28.99</td>\n",
              "      <td>2.0</td>\n",
              "      <td>2020-06-24</td>\n",
              "    </tr>\n",
              "    <tr>\n",
              "      <th>2020-06-24 12:04:00.000000000</th>\n",
              "      <td>-63.0</td>\n",
              "      <td>8.0</td>\n",
              "      <td>11.0</td>\n",
              "      <td>3.503119</td>\n",
              "      <td>85.00</td>\n",
              "      <td>28.99</td>\n",
              "      <td>2.0</td>\n",
              "      <td>2020-06-24</td>\n",
              "    </tr>\n",
              "  </tbody>\n",
              "</table>\n",
              "<p>357064 rows × 8 columns</p>\n",
              "</div>\n",
              "      <button class=\"colab-df-convert\" onclick=\"convertToInteractive('df-8e1a38f6-4c30-470f-b704-8ce3674c9766')\"\n",
              "              title=\"Convert this dataframe to an interactive table.\"\n",
              "              style=\"display:none;\">\n",
              "        \n",
              "  <svg xmlns=\"http://www.w3.org/2000/svg\" height=\"24px\"viewBox=\"0 0 24 24\"\n",
              "       width=\"24px\">\n",
              "    <path d=\"M0 0h24v24H0V0z\" fill=\"none\"/>\n",
              "    <path d=\"M18.56 5.44l.94 2.06.94-2.06 2.06-.94-2.06-.94-.94-2.06-.94 2.06-2.06.94zm-11 1L8.5 8.5l.94-2.06 2.06-.94-2.06-.94L8.5 2.5l-.94 2.06-2.06.94zm10 10l.94 2.06.94-2.06 2.06-.94-2.06-.94-.94-2.06-.94 2.06-2.06.94z\"/><path d=\"M17.41 7.96l-1.37-1.37c-.4-.4-.92-.59-1.43-.59-.52 0-1.04.2-1.43.59L10.3 9.45l-7.72 7.72c-.78.78-.78 2.05 0 2.83L4 21.41c.39.39.9.59 1.41.59.51 0 1.02-.2 1.41-.59l7.78-7.78 2.81-2.81c.8-.78.8-2.07 0-2.86zM5.41 20L4 18.59l7.72-7.72 1.47 1.35L5.41 20z\"/>\n",
              "  </svg>\n",
              "      </button>\n",
              "      \n",
              "  <style>\n",
              "    .colab-df-container {\n",
              "      display:flex;\n",
              "      flex-wrap:wrap;\n",
              "      gap: 12px;\n",
              "    }\n",
              "\n",
              "    .colab-df-convert {\n",
              "      background-color: #E8F0FE;\n",
              "      border: none;\n",
              "      border-radius: 50%;\n",
              "      cursor: pointer;\n",
              "      display: none;\n",
              "      fill: #1967D2;\n",
              "      height: 32px;\n",
              "      padding: 0 0 0 0;\n",
              "      width: 32px;\n",
              "    }\n",
              "\n",
              "    .colab-df-convert:hover {\n",
              "      background-color: #E2EBFA;\n",
              "      box-shadow: 0px 1px 2px rgba(60, 64, 67, 0.3), 0px 1px 3px 1px rgba(60, 64, 67, 0.15);\n",
              "      fill: #174EA6;\n",
              "    }\n",
              "\n",
              "    [theme=dark] .colab-df-convert {\n",
              "      background-color: #3B4455;\n",
              "      fill: #D2E3FC;\n",
              "    }\n",
              "\n",
              "    [theme=dark] .colab-df-convert:hover {\n",
              "      background-color: #434B5C;\n",
              "      box-shadow: 0px 1px 3px 1px rgba(0, 0, 0, 0.15);\n",
              "      filter: drop-shadow(0px 1px 2px rgba(0, 0, 0, 0.3));\n",
              "      fill: #FFFFFF;\n",
              "    }\n",
              "  </style>\n",
              "\n",
              "      <script>\n",
              "        const buttonEl =\n",
              "          document.querySelector('#df-8e1a38f6-4c30-470f-b704-8ce3674c9766 button.colab-df-convert');\n",
              "        buttonEl.style.display =\n",
              "          google.colab.kernel.accessAllowed ? 'block' : 'none';\n",
              "\n",
              "        async function convertToInteractive(key) {\n",
              "          const element = document.querySelector('#df-8e1a38f6-4c30-470f-b704-8ce3674c9766');\n",
              "          const dataTable =\n",
              "            await google.colab.kernel.invokeFunction('convertToInteractive',\n",
              "                                                     [key], {});\n",
              "          if (!dataTable) return;\n",
              "\n",
              "          const docLinkHtml = 'Like what you see? Visit the ' +\n",
              "            '<a target=\"_blank\" href=https://colab.research.google.com/notebooks/data_table.ipynb>data table notebook</a>'\n",
              "            + ' to learn more about interactive tables.';\n",
              "          element.innerHTML = '';\n",
              "          dataTable['output_type'] = 'display_data';\n",
              "          await google.colab.output.renderOutput(dataTable, element);\n",
              "          const docLink = document.createElement('div');\n",
              "          docLink.innerHTML = docLinkHtml;\n",
              "          element.appendChild(docLink);\n",
              "        }\n",
              "      </script>\n",
              "    </div>\n",
              "  </div>\n",
              "  "
            ]
          },
          "metadata": {},
          "execution_count": 85
        }
      ]
    },
    {
      "cell_type": "code",
      "source": [
        "train= train.drop('date', axis =1)\n",
        "train = train.set_index('datetime')"
      ],
      "metadata": {
        "id": "W7cg5-wpCulo"
      },
      "execution_count": null,
      "outputs": []
    },
    {
      "cell_type": "code",
      "source": [
        "train"
      ],
      "metadata": {
        "colab": {
          "base_uri": "https://localhost:8080/",
          "height": 455
        },
        "id": "FIYPYyV0D-Dr",
        "outputId": "c7cbf638-e0c3-411d-b768-0bdf6d8c99c0"
      },
      "execution_count": null,
      "outputs": [
        {
          "output_type": "execute_result",
          "data": {
            "text/plain": [
              "                                  X    Y     Z       EDA     HR   TEMP  label\n",
              "datetime                                                                     \n",
              "2020-06-23 15:46:00.000000000 -48.0  4.0  41.0  0.371295  76.90  30.07    0.0\n",
              "2020-06-23 15:46:00.031249920 -50.0  5.0  41.0  0.371295  76.90  30.07    0.0\n",
              "2020-06-23 15:46:00.062500096 -47.0  5.0  40.0  0.371295  76.90  30.07    0.0\n",
              "2020-06-23 15:46:00.093750016 -43.0  6.0  41.0  0.371295  76.90  30.07    0.0\n",
              "2020-06-23 15:46:00.124999936 -47.0  6.0  42.0  0.371295  76.90  30.07    0.0\n",
              "...                             ...  ...   ...       ...    ...    ...    ...\n",
              "2020-06-24 12:03:59.875000064 -48.0  7.0   2.0  3.276460  85.13  28.99    2.0\n",
              "2020-06-24 12:03:59.906249984 -37.0  0.0  -3.0  3.276460  85.13  28.99    2.0\n",
              "2020-06-24 12:03:59.937499904 -52.0  2.0   4.0  3.276460  85.13  28.99    2.0\n",
              "2020-06-24 12:03:59.968750080 -55.0  2.0   6.0  3.276460  85.13  28.99    2.0\n",
              "2020-06-24 12:04:00.000000000 -63.0  8.0  11.0  3.503119  85.00  28.99    2.0\n",
              "\n",
              "[357064 rows x 7 columns]"
            ],
            "text/html": [
              "\n",
              "  <div id=\"df-07190289-833d-4334-bea3-9b1532fb08c5\">\n",
              "    <div class=\"colab-df-container\">\n",
              "      <div>\n",
              "<style scoped>\n",
              "    .dataframe tbody tr th:only-of-type {\n",
              "        vertical-align: middle;\n",
              "    }\n",
              "\n",
              "    .dataframe tbody tr th {\n",
              "        vertical-align: top;\n",
              "    }\n",
              "\n",
              "    .dataframe thead th {\n",
              "        text-align: right;\n",
              "    }\n",
              "</style>\n",
              "<table border=\"1\" class=\"dataframe\">\n",
              "  <thead>\n",
              "    <tr style=\"text-align: right;\">\n",
              "      <th></th>\n",
              "      <th>X</th>\n",
              "      <th>Y</th>\n",
              "      <th>Z</th>\n",
              "      <th>EDA</th>\n",
              "      <th>HR</th>\n",
              "      <th>TEMP</th>\n",
              "      <th>label</th>\n",
              "    </tr>\n",
              "    <tr>\n",
              "      <th>datetime</th>\n",
              "      <th></th>\n",
              "      <th></th>\n",
              "      <th></th>\n",
              "      <th></th>\n",
              "      <th></th>\n",
              "      <th></th>\n",
              "      <th></th>\n",
              "    </tr>\n",
              "  </thead>\n",
              "  <tbody>\n",
              "    <tr>\n",
              "      <th>2020-06-23 15:46:00.000000000</th>\n",
              "      <td>-48.0</td>\n",
              "      <td>4.0</td>\n",
              "      <td>41.0</td>\n",
              "      <td>0.371295</td>\n",
              "      <td>76.90</td>\n",
              "      <td>30.07</td>\n",
              "      <td>0.0</td>\n",
              "    </tr>\n",
              "    <tr>\n",
              "      <th>2020-06-23 15:46:00.031249920</th>\n",
              "      <td>-50.0</td>\n",
              "      <td>5.0</td>\n",
              "      <td>41.0</td>\n",
              "      <td>0.371295</td>\n",
              "      <td>76.90</td>\n",
              "      <td>30.07</td>\n",
              "      <td>0.0</td>\n",
              "    </tr>\n",
              "    <tr>\n",
              "      <th>2020-06-23 15:46:00.062500096</th>\n",
              "      <td>-47.0</td>\n",
              "      <td>5.0</td>\n",
              "      <td>40.0</td>\n",
              "      <td>0.371295</td>\n",
              "      <td>76.90</td>\n",
              "      <td>30.07</td>\n",
              "      <td>0.0</td>\n",
              "    </tr>\n",
              "    <tr>\n",
              "      <th>2020-06-23 15:46:00.093750016</th>\n",
              "      <td>-43.0</td>\n",
              "      <td>6.0</td>\n",
              "      <td>41.0</td>\n",
              "      <td>0.371295</td>\n",
              "      <td>76.90</td>\n",
              "      <td>30.07</td>\n",
              "      <td>0.0</td>\n",
              "    </tr>\n",
              "    <tr>\n",
              "      <th>2020-06-23 15:46:00.124999936</th>\n",
              "      <td>-47.0</td>\n",
              "      <td>6.0</td>\n",
              "      <td>42.0</td>\n",
              "      <td>0.371295</td>\n",
              "      <td>76.90</td>\n",
              "      <td>30.07</td>\n",
              "      <td>0.0</td>\n",
              "    </tr>\n",
              "    <tr>\n",
              "      <th>...</th>\n",
              "      <td>...</td>\n",
              "      <td>...</td>\n",
              "      <td>...</td>\n",
              "      <td>...</td>\n",
              "      <td>...</td>\n",
              "      <td>...</td>\n",
              "      <td>...</td>\n",
              "    </tr>\n",
              "    <tr>\n",
              "      <th>2020-06-24 12:03:59.875000064</th>\n",
              "      <td>-48.0</td>\n",
              "      <td>7.0</td>\n",
              "      <td>2.0</td>\n",
              "      <td>3.276460</td>\n",
              "      <td>85.13</td>\n",
              "      <td>28.99</td>\n",
              "      <td>2.0</td>\n",
              "    </tr>\n",
              "    <tr>\n",
              "      <th>2020-06-24 12:03:59.906249984</th>\n",
              "      <td>-37.0</td>\n",
              "      <td>0.0</td>\n",
              "      <td>-3.0</td>\n",
              "      <td>3.276460</td>\n",
              "      <td>85.13</td>\n",
              "      <td>28.99</td>\n",
              "      <td>2.0</td>\n",
              "    </tr>\n",
              "    <tr>\n",
              "      <th>2020-06-24 12:03:59.937499904</th>\n",
              "      <td>-52.0</td>\n",
              "      <td>2.0</td>\n",
              "      <td>4.0</td>\n",
              "      <td>3.276460</td>\n",
              "      <td>85.13</td>\n",
              "      <td>28.99</td>\n",
              "      <td>2.0</td>\n",
              "    </tr>\n",
              "    <tr>\n",
              "      <th>2020-06-24 12:03:59.968750080</th>\n",
              "      <td>-55.0</td>\n",
              "      <td>2.0</td>\n",
              "      <td>6.0</td>\n",
              "      <td>3.276460</td>\n",
              "      <td>85.13</td>\n",
              "      <td>28.99</td>\n",
              "      <td>2.0</td>\n",
              "    </tr>\n",
              "    <tr>\n",
              "      <th>2020-06-24 12:04:00.000000000</th>\n",
              "      <td>-63.0</td>\n",
              "      <td>8.0</td>\n",
              "      <td>11.0</td>\n",
              "      <td>3.503119</td>\n",
              "      <td>85.00</td>\n",
              "      <td>28.99</td>\n",
              "      <td>2.0</td>\n",
              "    </tr>\n",
              "  </tbody>\n",
              "</table>\n",
              "<p>357064 rows × 7 columns</p>\n",
              "</div>\n",
              "      <button class=\"colab-df-convert\" onclick=\"convertToInteractive('df-07190289-833d-4334-bea3-9b1532fb08c5')\"\n",
              "              title=\"Convert this dataframe to an interactive table.\"\n",
              "              style=\"display:none;\">\n",
              "        \n",
              "  <svg xmlns=\"http://www.w3.org/2000/svg\" height=\"24px\"viewBox=\"0 0 24 24\"\n",
              "       width=\"24px\">\n",
              "    <path d=\"M0 0h24v24H0V0z\" fill=\"none\"/>\n",
              "    <path d=\"M18.56 5.44l.94 2.06.94-2.06 2.06-.94-2.06-.94-.94-2.06-.94 2.06-2.06.94zm-11 1L8.5 8.5l.94-2.06 2.06-.94-2.06-.94L8.5 2.5l-.94 2.06-2.06.94zm10 10l.94 2.06.94-2.06 2.06-.94-2.06-.94-.94-2.06-.94 2.06-2.06.94z\"/><path d=\"M17.41 7.96l-1.37-1.37c-.4-.4-.92-.59-1.43-.59-.52 0-1.04.2-1.43.59L10.3 9.45l-7.72 7.72c-.78.78-.78 2.05 0 2.83L4 21.41c.39.39.9.59 1.41.59.51 0 1.02-.2 1.41-.59l7.78-7.78 2.81-2.81c.8-.78.8-2.07 0-2.86zM5.41 20L4 18.59l7.72-7.72 1.47 1.35L5.41 20z\"/>\n",
              "  </svg>\n",
              "      </button>\n",
              "      \n",
              "  <style>\n",
              "    .colab-df-container {\n",
              "      display:flex;\n",
              "      flex-wrap:wrap;\n",
              "      gap: 12px;\n",
              "    }\n",
              "\n",
              "    .colab-df-convert {\n",
              "      background-color: #E8F0FE;\n",
              "      border: none;\n",
              "      border-radius: 50%;\n",
              "      cursor: pointer;\n",
              "      display: none;\n",
              "      fill: #1967D2;\n",
              "      height: 32px;\n",
              "      padding: 0 0 0 0;\n",
              "      width: 32px;\n",
              "    }\n",
              "\n",
              "    .colab-df-convert:hover {\n",
              "      background-color: #E2EBFA;\n",
              "      box-shadow: 0px 1px 2px rgba(60, 64, 67, 0.3), 0px 1px 3px 1px rgba(60, 64, 67, 0.15);\n",
              "      fill: #174EA6;\n",
              "    }\n",
              "\n",
              "    [theme=dark] .colab-df-convert {\n",
              "      background-color: #3B4455;\n",
              "      fill: #D2E3FC;\n",
              "    }\n",
              "\n",
              "    [theme=dark] .colab-df-convert:hover {\n",
              "      background-color: #434B5C;\n",
              "      box-shadow: 0px 1px 3px 1px rgba(0, 0, 0, 0.15);\n",
              "      filter: drop-shadow(0px 1px 2px rgba(0, 0, 0, 0.3));\n",
              "      fill: #FFFFFF;\n",
              "    }\n",
              "  </style>\n",
              "\n",
              "      <script>\n",
              "        const buttonEl =\n",
              "          document.querySelector('#df-07190289-833d-4334-bea3-9b1532fb08c5 button.colab-df-convert');\n",
              "        buttonEl.style.display =\n",
              "          google.colab.kernel.accessAllowed ? 'block' : 'none';\n",
              "\n",
              "        async function convertToInteractive(key) {\n",
              "          const element = document.querySelector('#df-07190289-833d-4334-bea3-9b1532fb08c5');\n",
              "          const dataTable =\n",
              "            await google.colab.kernel.invokeFunction('convertToInteractive',\n",
              "                                                     [key], {});\n",
              "          if (!dataTable) return;\n",
              "\n",
              "          const docLinkHtml = 'Like what you see? Visit the ' +\n",
              "            '<a target=\"_blank\" href=https://colab.research.google.com/notebooks/data_table.ipynb>data table notebook</a>'\n",
              "            + ' to learn more about interactive tables.';\n",
              "          element.innerHTML = '';\n",
              "          dataTable['output_type'] = 'display_data';\n",
              "          await google.colab.output.renderOutput(dataTable, element);\n",
              "          const docLink = document.createElement('div');\n",
              "          docLink.innerHTML = docLinkHtml;\n",
              "          element.appendChild(docLink);\n",
              "        }\n",
              "      </script>\n",
              "    </div>\n",
              "  </div>\n",
              "  "
            ]
          },
          "metadata": {},
          "execution_count": 87
        }
      ]
    },
    {
      "cell_type": "code",
      "source": [
        "import numpy as np\n",
        "from tensorflow.keras.models import Sequential\n",
        "from tensorflow.keras.layers import LSTM\n",
        "from tensorflow.keras.layers import Dense, Dropout\n",
        "import pandas as pd\n",
        "from matplotlib import pyplot as plt\n",
        "from sklearn.preprocessing import StandardScaler\n",
        "import seaborn as sns\n",
        "col_names = ['X', 'Y', 'Z', 'EDA', 'HR', 'TEMP', 'label']  # Scaling the data using StandardScaler\n",
        "features = train[col_names]\n",
        "\n",
        "from sklearn.compose import ColumnTransformer\n",
        "from sklearn.preprocessing import StandardScaler\n",
        "\n",
        "ct = ColumnTransformer([\n",
        "        ('somename', StandardScaler(), ['X', 'Y', 'Z', 'EDA', 'HR', 'TEMP'])\n",
        "    ], remainder='passthrough')\n",
        "\n",
        "training = ct.fit_transform(features)\n"
      ],
      "metadata": {
        "id": "HmId1gLkDbvs"
      },
      "execution_count": null,
      "outputs": []
    },
    {
      "cell_type": "code",
      "source": [
        "training"
      ],
      "metadata": {
        "colab": {
          "base_uri": "https://localhost:8080/"
        },
        "id": "GZAzcICMEFcZ",
        "outputId": "78110578-aad0-4948-a815-f14c83eff87f"
      },
      "execution_count": null,
      "outputs": [
        {
          "output_type": "execute_result",
          "data": {
            "text/plain": [
              "array([[-0.24573706,  0.61068445,  0.90613846, ..., -0.67673281,\n",
              "        -0.23765304,  0.        ],\n",
              "       [-0.34379456,  0.64541033,  0.90613846, ..., -0.67673281,\n",
              "        -0.23765304,  0.        ],\n",
              "       [-0.19670832,  0.64541033,  0.87124367, ..., -0.67673281,\n",
              "        -0.23765304,  0.        ],\n",
              "       ...,\n",
              "       [-0.44185206,  0.54123268, -0.38496895, ..., -0.12469789,\n",
              "        -1.15790769,  2.        ],\n",
              "       [-0.58893831,  0.54123268, -0.31517936, ..., -0.12469789,\n",
              "        -1.15790769,  2.        ],\n",
              "       [-0.9811683 ,  0.74958797, -0.14070539, ..., -0.13341776,\n",
              "        -1.15790769,  2.        ]])"
            ]
          },
          "metadata": {},
          "execution_count": 89
        }
      ]
    },
    {
      "cell_type": "code",
      "source": [
        "val= df5.drop('date', axis =1)\n",
        "val = val.set_index('datetime')"
      ],
      "metadata": {
        "id": "qDo8h-y4FH3v"
      },
      "execution_count": null,
      "outputs": []
    },
    {
      "cell_type": "code",
      "source": [
        "val1 = ct.fit(val)"
      ],
      "metadata": {
        "id": "GQg1kG1xFx3P"
      },
      "execution_count": null,
      "outputs": []
    },
    {
      "cell_type": "code",
      "source": [
        "df = pd.read_csv('/content/drive/MyDrive/data_science_assignment/Merged_data_labeled.csv', index_col='datetime', parse_dates=['datetime'], dtype={'id': str})\n",
        "\n",
        "#Resample the data\n",
        "df_resampled = df.resample('5min').mean(numeric_only=True)\n",
        "\n",
        "fig, ax = plt.subplots(figsize=(12,8))\n",
        "\n",
        "ax.plot(df_resampled.index, df_resampled['EDA'], label='EDA')\n",
        "ax.plot(df_resampled.index, df_resampled['TEMP'], label='TEMP')\n",
        "ax.plot(df_resampled.index, df_resampled['HR'], label='HR')\n",
        "\n",
        "ax.set_xlabel('Time')\n",
        "ax.set_ylabel('Readings')\n",
        "ax.set_title('Time Series Analysis of Empatica Wristband Data')\n",
        "ax.legend()\n",
        "\n",
        "plt.show()"
      ],
      "metadata": {
        "colab": {
          "base_uri": "https://localhost:8080/",
          "height": 718
        },
        "id": "PE9yFDUKS3Bp",
        "outputId": "e44e5bc5-5bb7-486e-d64c-030da4a510a4"
      },
      "execution_count": 8,
      "outputs": [
        {
          "output_type": "display_data",
          "data": {
            "text/plain": [
              "<Figure size 1200x800 with 1 Axes>"
            ],
            "image/png": "[encoded data removed]"
          },
          "metadata": {}
        }
      ]
    },
    {
      "cell_type": "code",
      "source": [
        "# Resample the data to 1 minute intervals\n",
        "df_resampled = df.resample('1T').mean(numeric_only=True)\n",
        "\n",
        "# Plot the EDA and skin temperature data over time\n",
        "plt.plot(df_resampled.index, df_resampled['EDA'], label='EDA')\n",
        "plt.plot(df_resampled.index, df_resampled['TEMP'], label='TEMP')\n",
        "\n",
        "# Set the chart title and axis labels\n",
        "plt.title('EDA and Temperature over Time')\n",
        "plt.xlabel('Time')\n",
        "plt.ylabel('Level')\n",
        "\n",
        "# Show the legend\n",
        "plt.legend()\n",
        "\n",
        "# Display the chart\n",
        "plt.show()"
      ],
      "metadata": {
        "colab": {
          "base_uri": "https://localhost:8080/",
          "height": 472
        },
        "id": "EJKSHJtUS_88",
        "outputId": "31891a2b-7f89-4f28-f379-2624a8f3f1ce"
      },
      "execution_count": 9,
      "outputs": [
        {
          "output_type": "display_data",
          "data": {
            "text/plain": [
              "<Figure size 640x480 with 1 Axes>"
            ],
            "image/png": "[encoded data removed]"
          },
          "metadata": {}
        }
      ]
    },
    {
      "cell_type": "code",
      "source": [
        "x_train = training[:,:-1]\n",
        "y_train = training[:,-1]"
      ],
      "metadata": {
        "id": "XxXUrx31YSyx"
      },
      "execution_count": null,
      "outputs": []
    },
    {
      "cell_type": "code",
      "source": [
        "# Training random forest classifier\n",
        "from sklearn.model_selection import GridSearchCV\n",
        "param_grid = {'n_estimators': [10, 50, 100, 200], 'max_depth': [10, 20, 30, None]}\n",
        "rfc = RandomForestClassifier()\n",
        "rfc_cv = GridSearchCV(rfc, param_grid, cv=5)\n",
        "rfc_cv.fit(x_train, y_train)\n",
        "print('Best parameters:', rfc_cv.best_params_)"
      ],
      "metadata": {
        "colab": {
          "base_uri": "https://localhost:8080/"
        },
        "id": "9STf_P2FbjqJ",
        "outputId": "93397358-6023-471f-f574-6d541e916393"
      },
      "execution_count": null,
      "outputs": [
        {
          "metadata": {
            "tags": null
          },
          "name": "stdout",
          "output_type": "stream",
          "text": [
            "Best parameters: {'max_depth': 20, 'n_estimators': 10}\n"
          ]
        }
      ]
    },
    {
      "cell_type": "code",
      "source": [
        "from sklearn.ensemble import RandomForestClassifier\n",
        "rfc = RandomForestClassifier(n_estimators=100)\n",
        "rfc.fit(x_train, y_train)"
      ],
      "metadata": {
        "id": "LKKN9lpIxoK6"
      },
      "execution_count": null,
      "outputs": []
    },
    {
      "cell_type": "code",
      "source": [
        "val1"
      ],
      "metadata": {
        "colab": {
          "base_uri": "https://localhost:8080/",
          "height": 139
        },
        "id": "qO5JufGyyxQe",
        "outputId": "60413a88-3f9b-4320-9ec1-c433586f0a21"
      },
      "execution_count": null,
      "outputs": [
        {
          "output_type": "execute_result",
          "data": {
            "text/plain": [
              "ColumnTransformer(remainder='passthrough',\n",
              "                  transformers=[('somename', StandardScaler(),\n",
              "                                 ['X', 'Y', 'Z', 'EDA', 'HR', 'TEMP'])])"
            ],
            "text/html": [
              "<style>#sk-container-id-8 {color: black;background-color: white;}#sk-container-id-8 pre{padding: 0;}#sk-container-id-8 div.sk-toggleable {background-color: white;}#sk-container-id-8 label.sk-toggleable__label {cursor: pointer;display: block;width: 100%;margin-bottom: 0;padding: 0.3em;box-sizing: border-box;text-align: center;}#sk-container-id-8 label.sk-toggleable__label-arrow:before {content: \"▸\";float: left;margin-right: 0.25em;color: #696969;}#sk-container-id-8 label.sk-toggleable__label-arrow:hover:before {color: black;}#sk-container-id-8 div.sk-estimator:hover label.sk-toggleable__label-arrow:before {color: black;}#sk-container-id-8 div.sk-toggleable__content {max-height: 0;max-width: 0;overflow: hidden;text-align: left;background-color: #f0f8ff;}#sk-container-id-8 div.sk-toggleable__content pre {margin: 0.2em;color: black;border-radius: 0.25em;background-color: #f0f8ff;}#sk-container-id-8 input.sk-toggleable__control:checked~div.sk-toggleable__content {max-height: 200px;max-width: 100%;overflow: auto;}#sk-container-id-8 input.sk-toggleable__control:checked~label.sk-toggleable__label-arrow:before {content: \"▾\";}#sk-container-id-8 div.sk-estimator input.sk-toggleable__control:checked~label.sk-toggleable__label {background-color: #d4ebff;}#sk-container-id-8 div.sk-label input.sk-toggleable__control:checked~label.sk-toggleable__label {background-color: #d4ebff;}#sk-container-id-8 input.sk-hidden--visually {border: 0;clip: rect(1px 1px 1px 1px);clip: rect(1px, 1px, 1px, 1px);height: 1px;margin: -1px;overflow: hidden;padding: 0;position: absolute;width: 1px;}#sk-container-id-8 div.sk-estimator {font-family: monospace;background-color: #f0f8ff;border: 1px dotted black;border-radius: 0.25em;box-sizing: border-box;margin-bottom: 0.5em;}#sk-container-id-8 div.sk-estimator:hover {background-color: #d4ebff;}#sk-container-id-8 div.sk-parallel-item::after {content: \"\";width: 100%;border-bottom: 1px solid gray;flex-grow: 1;}#sk-container-id-8 div.sk-label:hover label.sk-toggleable__label {background-color: #d4ebff;}#sk-container-id-8 div.sk-serial::before {content: \"\";position: absolute;border-left: 1px solid gray;box-sizing: border-box;top: 0;bottom: 0;left: 50%;z-index: 0;}#sk-container-id-8 div.sk-serial {display: flex;flex-direction: column;align-items: center;background-color: white;padding-right: 0.2em;padding-left: 0.2em;position: relative;}#sk-container-id-8 div.sk-item {position: relative;z-index: 1;}#sk-container-id-8 div.sk-parallel {display: flex;align-items: stretch;justify-content: center;background-color: white;position: relative;}#sk-container-id-8 div.sk-item::before, #sk-container-id-8 div.sk-parallel-item::before {content: \"\";position: absolute;border-left: 1px solid gray;box-sizing: border-box;top: 0;bottom: 0;left: 50%;z-index: -1;}#sk-container-id-8 div.sk-parallel-item {display: flex;flex-direction: column;z-index: 1;position: relative;background-color: white;}#sk-container-id-8 div.sk-parallel-item:first-child::after {align-self: flex-end;width: 50%;}#sk-container-id-8 div.sk-parallel-item:last-child::after {align-self: flex-start;width: 50%;}#sk-container-id-8 div.sk-parallel-item:only-child::after {width: 0;}#sk-container-id-8 div.sk-dashed-wrapped {border: 1px dashed gray;margin: 0 0.4em 0.5em 0.4em;box-sizing: border-box;padding-bottom: 0.4em;background-color: white;}#sk-container-id-8 div.sk-label label {font-family: monospace;font-weight: bold;display: inline-block;line-height: 1.2em;}#sk-container-id-8 div.sk-label-container {text-align: center;}#sk-container-id-8 div.sk-container {/* jupyter's `normalize.less` sets `[hidden] { display: none; }` but bootstrap.min.css set `[hidden] { display: none !important; }` so we also need the `!important` here to be able to override the default hidden behavior on the sphinx rendered scikit-learn.org. See: https://github.com/scikit-learn/scikit-learn/issues/21755 */display: inline-block !important;position: relative;}#sk-container-id-8 div.sk-text-repr-fallback {display: none;}</style><div id=\"sk-container-id-8\" class=\"sk-top-container\"><div class=\"sk-text-repr-fallback\"><pre>ColumnTransformer(remainder=&#x27;passthrough&#x27;,\n",
              "                  transformers=[(&#x27;somename&#x27;, StandardScaler(),\n",
              "                                 [&#x27;X&#x27;, &#x27;Y&#x27;, &#x27;Z&#x27;, &#x27;EDA&#x27;, &#x27;HR&#x27;, &#x27;TEMP&#x27;])])</pre><b>In a Jupyter environment, please rerun this cell to show the HTML representation or trust the notebook. <br />On GitHub, the HTML representation is unable to render, please try loading this page with nbviewer.org.</b></div><div class=\"sk-container\" hidden><div class=\"sk-item sk-dashed-wrapped\"><div class=\"sk-label-container\"><div class=\"sk-label sk-toggleable\"><input class=\"sk-toggleable__control sk-hidden--visually\" id=\"sk-estimator-id-16\" type=\"checkbox\" ><label for=\"sk-estimator-id-16\" class=\"sk-toggleable__label sk-toggleable__label-arrow\">ColumnTransformer</label><div class=\"sk-toggleable__content\"><pre>ColumnTransformer(remainder=&#x27;passthrough&#x27;,\n",
              "                  transformers=[(&#x27;somename&#x27;, StandardScaler(),\n",
              "                                 [&#x27;X&#x27;, &#x27;Y&#x27;, &#x27;Z&#x27;, &#x27;EDA&#x27;, &#x27;HR&#x27;, &#x27;TEMP&#x27;])])</pre></div></div></div><div class=\"sk-parallel\"><div class=\"sk-parallel-item\"><div class=\"sk-item\"><div class=\"sk-label-container\"><div class=\"sk-label sk-toggleable\"><input class=\"sk-toggleable__control sk-hidden--visually\" id=\"sk-estimator-id-17\" type=\"checkbox\" ><label for=\"sk-estimator-id-17\" class=\"sk-toggleable__label sk-toggleable__label-arrow\">somename</label><div class=\"sk-toggleable__content\"><pre>[&#x27;X&#x27;, &#x27;Y&#x27;, &#x27;Z&#x27;, &#x27;EDA&#x27;, &#x27;HR&#x27;, &#x27;TEMP&#x27;]</pre></div></div></div><div class=\"sk-serial\"><div class=\"sk-item\"><div class=\"sk-estimator sk-toggleable\"><input class=\"sk-toggleable__control sk-hidden--visually\" id=\"sk-estimator-id-18\" type=\"checkbox\" ><label for=\"sk-estimator-id-18\" class=\"sk-toggleable__label sk-toggleable__label-arrow\">StandardScaler</label><div class=\"sk-toggleable__content\"><pre>StandardScaler()</pre></div></div></div></div></div></div><div class=\"sk-parallel-item\"><div class=\"sk-item\"><div class=\"sk-label-container\"><div class=\"sk-label sk-toggleable\"><input class=\"sk-toggleable__control sk-hidden--visually\" id=\"sk-estimator-id-19\" type=\"checkbox\" ><label for=\"sk-estimator-id-19\" class=\"sk-toggleable__label sk-toggleable__label-arrow\">remainder</label><div class=\"sk-toggleable__content\"><pre>[&#x27;label&#x27;]</pre></div></div></div><div class=\"sk-serial\"><div class=\"sk-item\"><div class=\"sk-estimator sk-toggleable\"><input class=\"sk-toggleable__control sk-hidden--visually\" id=\"sk-estimator-id-20\" type=\"checkbox\" ><label for=\"sk-estimator-id-20\" class=\"sk-toggleable__label sk-toggleable__label-arrow\">passthrough</label><div class=\"sk-toggleable__content\"><pre>passthrough</pre></div></div></div></div></div></div></div></div></div></div>"
            ]
          },
          "metadata": {},
          "execution_count": 94
        }
      ]
    },
    {
      "cell_type": "code",
      "source": [
        "from sklearn.metrics import accuracy_score\n",
        "y_pred = rfc.predict(X_val)\n",
        "accuracy = accuracy_score(y_val, y_pred)\n",
        "print('Validation accuracy:', accuracy)"
      ],
      "metadata": {
        "colab": {
          "base_uri": "https://localhost:8080/"
        },
        "id": "-_cMtBDdYfng",
        "outputId": "e7a5579f-6f1e-49fa-98e0-2236cfb375fc"
      },
      "execution_count": null,
      "outputs": [
        {
          "output_type": "stream",
          "name": "stdout",
          "text": [
            "Validation accuracy: 0.8804017204392883\n"
          ]
        }
      ]
    },
    {
      "cell_type": "code",
      "source": [
        "test = ct.transform(df6)"
      ],
      "metadata": {
        "id": "kucMI7RHbH1o"
      },
      "execution_count": null,
      "outputs": []
    },
    {
      "cell_type": "code",
      "source": [
        "X_test = test[:,:-1]\n",
        "y_test = test[:,-1]\n",
        "y_pred = rfc.predict(X_test)\n",
        "accuracy = accuracy_score(y_test, y_pred)\n",
        "print('Validation accuracy:', accuracy) # this is test accuracy by mistake it has written validation accuracy"
      ],
      "metadata": {
        "colab": {
          "base_uri": "https://localhost:8080/"
        },
        "id": "Zd6QGmOqbR4x",
        "outputId": "5a318c31-31e4-4c22-f9e1-af6f986ee296"
      },
      "execution_count": null,
      "outputs": [
        {
          "output_type": "stream",
          "name": "stdout",
          "text": [
            "Validation accuracy: 1.0\n"
          ]
        }
      ]
    },
    {
      "cell_type": "code",
      "source": [
        "from sklearn.metrics import accuracy_score, f1_score, precision_score, recall_score, classification_report, confusion_matrix\n",
        "f1score   = f1_score        (y_test, y_pred, average ='weighted')\n",
        "recall    = recall_score    (y_test, y_pred, average = 'weighted')\n",
        "precision = precision_score (y_test, y_pred, average = 'weighted')\n",
        "accuracy  = accuracy_score  (y_test, y_pred)\n",
        "\n",
        "print('acc =', accuracy)\n",
        "print('pre =', precision)\n",
        "print('recall =', recall) \n",
        "print('f1 =', f1score)"
      ],
      "metadata": {
        "colab": {
          "base_uri": "https://localhost:8080/"
        },
        "id": "FK6AE_tqbcqE",
        "outputId": "0e4bca8c-f755-4ab7-904a-cc20ca6bd661"
      },
      "execution_count": null,
      "outputs": [
        {
          "output_type": "stream",
          "name": "stdout",
          "text": [
            "acc = 1.0\n",
            "pre = 1.0\n",
            "recall = 1.0\n",
            "f1 = 1.0\n"
          ]
        }
      ]
    },
    {
      "cell_type": "code",
      "source": [
        "# Training for KNN classifier\n",
        "from sklearn.model_selection import GridSearchCV\n",
        "from sklearn.cluster import KMeans\n",
        "from sklearn.neighbors import KNeighborsClassifier\n",
        "logeg =KNeighborsClassifier()\n",
        "param_grid = {'n_neighbors':[5,10], 'algorithm': ['auto', 'ball_tree', 'kd_tree', 'brute']}\n",
        "grid_search = GridSearchCV(logeg, param_grid, cv=5)\n",
        "grid_search.fit(x_train, y_train)\n",
        "print('Best parameters:', grid_search.best_params_)"
      ],
      "metadata": {
        "id": "tsgAEtHQ2Esa",
        "colab": {
          "base_uri": "https://localhost:8080/"
        },
        "outputId": "325a9794-22e9-4a07-cfdf-546b3b49270b"
      },
      "execution_count": null,
      "outputs": [
        {
          "output_type": "stream",
          "name": "stdout",
          "text": [
            "Best parameters: {'algorithm': 'auto', 'n_neighbors': 5}\n"
          ]
        }
      ]
    },
    {
      "cell_type": "code",
      "source": [
        "from pandas.core.frame import algorithms\n",
        "from sklearn.ensemble import RandomForestClassifier\n",
        "knn =KNeighborsClassifier(n_neighbors= 10, algorithm = 'auto')\n",
        "knn.fit(x_train, y_train)"
      ],
      "metadata": {
        "colab": {
          "base_uri": "https://localhost:8080/",
          "height": 74
        },
        "id": "8rY2vA2vAK90",
        "outputId": "d8829ff6-66f6-45e8-d802-61712242b404"
      },
      "execution_count": null,
      "outputs": [
        {
          "output_type": "execute_result",
          "data": {
            "text/plain": [
              "KNeighborsClassifier(n_neighbors=10)"
            ],
            "text/html": [
              "<style>#sk-container-id-9 {color: black;background-color: white;}#sk-container-id-9 pre{padding: 0;}#sk-container-id-9 div.sk-toggleable {background-color: white;}#sk-container-id-9 label.sk-toggleable__label {cursor: pointer;display: block;width: 100%;margin-bottom: 0;padding: 0.3em;box-sizing: border-box;text-align: center;}#sk-container-id-9 label.sk-toggleable__label-arrow:before {content: \"▸\";float: left;margin-right: 0.25em;color: #696969;}#sk-container-id-9 label.sk-toggleable__label-arrow:hover:before {color: black;}#sk-container-id-9 div.sk-estimator:hover label.sk-toggleable__label-arrow:before {color: black;}#sk-container-id-9 div.sk-toggleable__content {max-height: 0;max-width: 0;overflow: hidden;text-align: left;background-color: #f0f8ff;}#sk-container-id-9 div.sk-toggleable__content pre {margin: 0.2em;color: black;border-radius: 0.25em;background-color: #f0f8ff;}#sk-container-id-9 input.sk-toggleable__control:checked~div.sk-toggleable__content {max-height: 200px;max-width: 100%;overflow: auto;}#sk-container-id-9 input.sk-toggleable__control:checked~label.sk-toggleable__label-arrow:before {content: \"▾\";}#sk-container-id-9 div.sk-estimator input.sk-toggleable__control:checked~label.sk-toggleable__label {background-color: #d4ebff;}#sk-container-id-9 div.sk-label input.sk-toggleable__control:checked~label.sk-toggleable__label {background-color: #d4ebff;}#sk-container-id-9 input.sk-hidden--visually {border: 0;clip: rect(1px 1px 1px 1px);clip: rect(1px, 1px, 1px, 1px);height: 1px;margin: -1px;overflow: hidden;padding: 0;position: absolute;width: 1px;}#sk-container-id-9 div.sk-estimator {font-family: monospace;background-color: #f0f8ff;border: 1px dotted black;border-radius: 0.25em;box-sizing: border-box;margin-bottom: 0.5em;}#sk-container-id-9 div.sk-estimator:hover {background-color: #d4ebff;}#sk-container-id-9 div.sk-parallel-item::after {content: \"\";width: 100%;border-bottom: 1px solid gray;flex-grow: 1;}#sk-container-id-9 div.sk-label:hover label.sk-toggleable__label {background-color: #d4ebff;}#sk-container-id-9 div.sk-serial::before {content: \"\";position: absolute;border-left: 1px solid gray;box-sizing: border-box;top: 0;bottom: 0;left: 50%;z-index: 0;}#sk-container-id-9 div.sk-serial {display: flex;flex-direction: column;align-items: center;background-color: white;padding-right: 0.2em;padding-left: 0.2em;position: relative;}#sk-container-id-9 div.sk-item {position: relative;z-index: 1;}#sk-container-id-9 div.sk-parallel {display: flex;align-items: stretch;justify-content: center;background-color: white;position: relative;}#sk-container-id-9 div.sk-item::before, #sk-container-id-9 div.sk-parallel-item::before {content: \"\";position: absolute;border-left: 1px solid gray;box-sizing: border-box;top: 0;bottom: 0;left: 50%;z-index: -1;}#sk-container-id-9 div.sk-parallel-item {display: flex;flex-direction: column;z-index: 1;position: relative;background-color: white;}#sk-container-id-9 div.sk-parallel-item:first-child::after {align-self: flex-end;width: 50%;}#sk-container-id-9 div.sk-parallel-item:last-child::after {align-self: flex-start;width: 50%;}#sk-container-id-9 div.sk-parallel-item:only-child::after {width: 0;}#sk-container-id-9 div.sk-dashed-wrapped {border: 1px dashed gray;margin: 0 0.4em 0.5em 0.4em;box-sizing: border-box;padding-bottom: 0.4em;background-color: white;}#sk-container-id-9 div.sk-label label {font-family: monospace;font-weight: bold;display: inline-block;line-height: 1.2em;}#sk-container-id-9 div.sk-label-container {text-align: center;}#sk-container-id-9 div.sk-container {/* jupyter's `normalize.less` sets `[hidden] { display: none; }` but bootstrap.min.css set `[hidden] { display: none !important; }` so we also need the `!important` here to be able to override the default hidden behavior on the sphinx rendered scikit-learn.org. See: https://github.com/scikit-learn/scikit-learn/issues/21755 */display: inline-block !important;position: relative;}#sk-container-id-9 div.sk-text-repr-fallback {display: none;}</style><div id=\"sk-container-id-9\" class=\"sk-top-container\"><div class=\"sk-text-repr-fallback\"><pre>KNeighborsClassifier(n_neighbors=10)</pre><b>In a Jupyter environment, please rerun this cell to show the HTML representation or trust the notebook. <br />On GitHub, the HTML representation is unable to render, please try loading this page with nbviewer.org.</b></div><div class=\"sk-container\" hidden><div class=\"sk-item\"><div class=\"sk-estimator sk-toggleable\"><input class=\"sk-toggleable__control sk-hidden--visually\" id=\"sk-estimator-id-21\" type=\"checkbox\" checked><label for=\"sk-estimator-id-21\" class=\"sk-toggleable__label sk-toggleable__label-arrow\">KNeighborsClassifier</label><div class=\"sk-toggleable__content\"><pre>KNeighborsClassifier(n_neighbors=10)</pre></div></div></div></div></div>"
            ]
          },
          "metadata": {},
          "execution_count": 108
        }
      ]
    },
    {
      "cell_type": "code",
      "source": [
        "# Validation KNN Classifier\n",
        "from sklearn.metrics import accuracy_score\n",
        "y_pred = knn.predict(X_val)\n",
        "accuracy = accuracy_score(y_val, y_pred)\n",
        "print('Validation accuracy:', accuracy)"
      ],
      "metadata": {
        "colab": {
          "base_uri": "https://localhost:8080/"
        },
        "id": "OrDAcDshAQ8w",
        "outputId": "7f3f0b9e-d0c6-45f3-a3fc-dad18f11485b"
      },
      "execution_count": null,
      "outputs": [
        {
          "output_type": "stream",
          "name": "stdout",
          "text": [
            "Validation accuracy: 0.8475895706372669\n"
          ]
        }
      ]
    },
    {
      "cell_type": "code",
      "source": [
        "scaledf5 = ct.transform(df5)"
      ],
      "metadata": {
        "id": "tLgVgXYlAuF3"
      },
      "execution_count": null,
      "outputs": []
    },
    {
      "cell_type": "code",
      "source": [
        "X_test = scaledf5[:,:-1]\n",
        "y_test = scaledf5[:,-1]\n",
        "y_pred = knn.predict(X_test)\n",
        "accuracy = accuracy_score(y_test, y_pred)\n",
        "print('Test accuracy:', accuracy)"
      ],
      "metadata": {
        "colab": {
          "base_uri": "https://localhost:8080/"
        },
        "id": "iYxwtzuFAwQS",
        "outputId": "d5de66d2-611e-4440-9e5e-d968f808261e"
      },
      "execution_count": null,
      "outputs": [
        {
          "output_type": "stream",
          "name": "stdout",
          "text": [
            "Test accuracy: 0.7826377328774633\n"
          ]
        }
      ]
    },
    {
      "cell_type": "code",
      "source": [
        "from sklearn.metrics import accuracy_score, f1_score, precision_score, recall_score, classification_report, confusion_matrix\n",
        "f1score   = f1_score        (y_test, y_pred, average ='weighted')\n",
        "recall    = recall_score    (y_test, y_pred, average = 'weighted')\n",
        "precision = precision_score (y_test, y_pred, average = 'weighted')\n",
        "accuracy  = accuracy_score  (y_test, y_pred)\n",
        "\n",
        "print('acc =', accuracy)\n",
        "print('pre =', precision)\n",
        "print('recall =', recall) \n",
        "print('f1 =', f1score)"
      ],
      "metadata": {
        "colab": {
          "base_uri": "https://localhost:8080/"
        },
        "id": "Bio43RzQBKDw",
        "outputId": "b22b5698-2095-40e9-fa57-87e7387b502b"
      },
      "execution_count": null,
      "outputs": [
        {
          "output_type": "stream",
          "name": "stdout",
          "text": [
            "acc = 0.7826377328774633\n",
            "pre = 0.8034727915346773\n",
            "recall = 0.7826377328774633\n",
            "f1 = 0.7921744390569716\n"
          ]
        }
      ]
    }
  ]
}